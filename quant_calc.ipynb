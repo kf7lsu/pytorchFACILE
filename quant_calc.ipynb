{
 "cells": [
  {
   "cell_type": "code",
   "execution_count": 1,
   "metadata": {},
   "outputs": [],
   "source": [
    "import numpy as np\n",
    "from constants import *"
   ]
  },
  {
   "cell_type": "code",
   "execution_count": 2,
   "metadata": {},
   "outputs": [
    {
     "name": "stdout",
     "output_type": "stream",
     "text": [
      "63\n"
     ]
    }
   ],
   "source": [
    "incrs = (2**WEIGHT_BW) - 1\n",
    "print(incrs)"
   ]
  },
  {
   "cell_type": "code",
   "execution_count": 3,
   "metadata": {},
   "outputs": [
    {
     "name": "stdout",
     "output_type": "stream",
     "text": [
      "[31.0, 1.0, 0.0, -29.0, 1.0, 7.6189e-05, 17.317, 33.448, 17.927, 55.531, 55.538, 36.765, 36.762, 36.761]\n",
      "[113.0, 7.0, 495.129, 29.0, 72.0, 0.012621, 65325.984375, 59779.774, 143953.485, 615225.3125, 254884.40625, 78382.79, 39076.9961, 30473.15821]\n",
      "[0.0]\n",
      "[507.4008]\n"
     ]
    }
   ],
   "source": [
    "mins_pre = np.asarray(PREPROC_MINS)\n",
    "print(list(mins_pre))\n",
    "maxs_pre = np.asarray(PREPROC_MAXES)\n",
    "print(list(maxs_pre))\n",
    "min_post = np.asarray(POSTPROC_MIN)\n",
    "print(list(min_post))\n",
    "max_post = np.asarray(POSTPROC_MAX)\n",
    "print(list(max_post))"
   ]
  },
  {
   "cell_type": "code",
   "execution_count": 4,
   "metadata": {},
   "outputs": [
    {
     "name": "stdout",
     "output_type": "stream",
     "text": [
      "[82.0, 6.0, 495.129, 58.0, 71.0, 0.012544811, 65308.667375, 59746.326, 143935.558, 615169.7815, 254828.86825, 78346.025, 39040.234099999994, 30436.397210000003]\n",
      "[507.4008]\n"
     ]
    }
   ],
   "source": [
    "ranges_pre = (maxs_pre - mins_pre)\n",
    "print(list(ranges_pre))\n",
    "range_post = (max_post - min_post)\n",
    "print(list(range_post))"
   ]
  },
  {
   "cell_type": "code",
   "execution_count": 5,
   "metadata": {},
   "outputs": [
    {
     "name": "stdout",
     "output_type": "stream",
     "text": [
      "[1.3015873015873016, 0.09523809523809523, 7.859190476190476, 0.9206349206349206, 1.126984126984127, 0.0001991239841269841, 1036.645513888889, 948.354380952381, 2284.6913968253966, 9764.599706349207, 4044.9026706349205, 1243.5876984126983, 619.6862555555555, 483.1174160317461]\n",
      "[8.053980952380952]\n"
     ]
    }
   ],
   "source": [
    "incr_pre = ranges_pre / incrs\n",
    "print(list(incr_pre))\n",
    "incr_post = range_post / incrs\n",
    "print(list(incr_post))"
   ]
  },
  {
   "cell_type": "code",
   "execution_count": null,
   "metadata": {},
   "outputs": [],
   "source": []
  }
 ],
 "metadata": {
  "kernelspec": {
   "display_name": "Python 3",
   "language": "python",
   "name": "python3"
  },
  "language_info": {
   "codemirror_mode": {
    "name": "ipython",
    "version": 3
   },
   "file_extension": ".py",
   "mimetype": "text/x-python",
   "name": "python",
   "nbconvert_exporter": "python",
   "pygments_lexer": "ipython3",
   "version": "3.6.8"
  }
 },
 "nbformat": 4,
 "nbformat_minor": 4
}
