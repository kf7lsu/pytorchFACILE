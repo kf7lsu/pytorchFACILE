{
 "cells": [
  {
   "cell_type": "markdown",
   "metadata": {},
   "source": [
    "# Dataset Information\n",
    "This notebook is used to find the average expected value of the network. This is used to inform how well/poorly the network is doing at energy regression. The loss of the network is mean squared error, so on average the network is off of the correct value by sqrt(loss)"
   ]
  },
  {
   "cell_type": "code",
   "execution_count": 25,
   "metadata": {},
   "outputs": [],
   "source": [
    "#import the necessary tools\n",
    "from utils import load_torch_datasets\n",
    "from math import sqrt\n",
    "from statistics import mean"
   ]
  },
  {
   "cell_type": "code",
   "execution_count": 30,
   "metadata": {},
   "outputs": [
    {
     "name": "stdout",
     "output_type": "stream",
     "text": [
      "5.162363799656123\n"
     ]
    }
   ],
   "source": [
    "#specify loss for comparison purposes\n",
    "loss = 26.65\n",
    "avg_error = sqrt(loss)\n",
    "print(avg_error)"
   ]
  },
  {
   "cell_type": "code",
   "execution_count": 23,
   "metadata": {},
   "outputs": [
    {
     "name": "stdout",
     "output_type": "stream",
     "text": [
      "X_train shape: (229538, 14)\n",
      "X_val shape: (12752, 14)\n",
      "X_test shape: (12752, 14)\n",
      "Y_train shape: (229538, 1)\n",
      "Y_val shape: (12752, 1)\n",
      "Y_test shape: (12752, 1)\n",
      "Using saved split data\n"
     ]
    }
   ],
   "source": [
    "#load datasets\n",
    "datasets = [None, None, None]\n",
    "datasets[0], datasets[1], datasets[2], shape = load_torch_datasets()\n",
    "expected_vals = []\n",
    "for dataset in datasets:\n",
    "    for tensor in dataset:\n",
    "        expected_val=tensor[-1][0].item()\n",
    "        expected_vals.append(expected_val)"
   ]
  },
  {
   "cell_type": "code",
   "execution_count": 26,
   "metadata": {},
   "outputs": [
    {
     "name": "stdout",
     "output_type": "stream",
     "text": [
      "25.36979378226126\n"
     ]
    }
   ],
   "source": [
    "#print the average\n",
    "print(mean(expected_vals))"
   ]
  },
  {
   "cell_type": "code",
   "execution_count": null,
   "metadata": {},
   "outputs": [],
   "source": []
  }
 ],
 "metadata": {
  "kernelspec": {
   "display_name": "Python 3",
   "language": "python",
   "name": "python3"
  },
  "language_info": {
   "codemirror_mode": {
    "name": "ipython",
    "version": 3
   },
   "file_extension": ".py",
   "mimetype": "text/x-python",
   "name": "python",
   "nbconvert_exporter": "python",
   "pygments_lexer": "ipython3",
   "version": "3.6.8"
  }
 },
 "nbformat": 4,
 "nbformat_minor": 4
}
