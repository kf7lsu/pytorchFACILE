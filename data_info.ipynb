{
 "cells": [
  {
   "cell_type": "markdown",
   "metadata": {},
   "source": [
    "# Dataset Information\n",
    "This notebook is used to find the average expected value of the network. This is used to inform how well/poorly the network is doing at energy regression. The loss of the network is mean squared error, so on average the network is off of the correct value by sqrt(loss)"
   ]
  },
  {
   "cell_type": "code",
   "execution_count": 1,
   "metadata": {},
   "outputs": [],
   "source": [
    "#import the necessary tools\n",
    "from utils import load_torch_datasets, load_torch_datasets_quant\n",
    "from math import sqrt\n",
    "from statistics import mean\n",
    "from processing import FINN_FACILE_Preproc as preproc\n",
    "from processing import FINN_FACILE_Postproc as postproc"
   ]
  },
  {
   "cell_type": "code",
   "execution_count": 2,
   "metadata": {},
   "outputs": [
    {
     "name": "stdout",
     "output_type": "stream",
     "text": [
      "5.162363799656123\n"
     ]
    }
   ],
   "source": [
    "#specify loss for comparison purposes\n",
    "loss = 26.65\n",
    "avg_error = sqrt(loss)\n",
    "print(avg_error)"
   ]
  },
  {
   "cell_type": "code",
   "execution_count": 2,
   "metadata": {},
   "outputs": [
    {
     "name": "stdout",
     "output_type": "stream",
     "text": [
      "X_train shape: (229538, 14)\n",
      "X_val shape: (12752, 14)\n",
      "X_test shape: (12752, 14)\n",
      "Y_train shape: (229538, 1)\n",
      "Y_val shape: (12752, 1)\n",
      "Y_test shape: (12752, 1)\n",
      "Using saved split data\n"
     ]
    }
   ],
   "source": [
    "#load datasets\n",
    "datasets = [None, None, None]\n",
    "datasets[0], datasets[1], datasets[2], shape = load_torch_datasets_quant()"
   ]
  },
  {
   "cell_type": "code",
   "execution_count": 3,
   "metadata": {},
   "outputs": [],
   "source": [
    "expected_vals = []\n",
    "for dataset in datasets:\n",
    "    for tensor in dataset:\n",
    "        expected_val=tensor[-1][0].item()\n",
    "        expected_vals.append(expected_val)"
   ]
  },
  {
   "cell_type": "code",
   "execution_count": 4,
   "metadata": {},
   "outputs": [
    {
     "name": "stdout",
     "output_type": "stream",
     "text": [
      "0.04999951474704269\n"
     ]
    }
   ],
   "source": [
    "#print the average\n",
    "print(mean(expected_vals))"
   ]
  },
  {
   "cell_type": "code",
   "execution_count": 5,
   "metadata": {
    "scrolled": true
   },
   "outputs": [
    {
     "name": "stdout",
     "output_type": "stream",
     "text": [
      "[1.0, 1.0, 0.9999998106554049, 1.0, 1.0, 0.999964471813329, 1.0, 0.9999999905851952, 0.9999999956577791, 1.0, 1.0, 0.9999999880338537, 0.9999999998399088, 0.9999999997741191, 0.9999998547861165]\n",
      "[0.0, 0.0, 0.0, 0.0, 0.0, 3.223272948584546e-08, 2.5906125469281093e-09, 4.1812929975117144e-09, 2.5313367335872137e-09, -2.2611500966998698e-10, 1.6545647370087432e-09, -1.5658824307049203e-09, -7.204106391371633e-09, 1.2961479300496014e-08, 0.0]\n"
     ]
    }
   ],
   "source": [
    "#find the mins and maxes of each column of dataset\n",
    "maxes = [0,0,0,0,0,0,0,0,0,0,0,0,0,0,0]\n",
    "mins = [9999,9999,9999,9999,9999,9999,9999,9999,9999,9999,9999,9999,9999,9999,9999]\n",
    "for dataset in datasets:\n",
    "    for tensor in dataset:\n",
    "        #print(tensor)\n",
    "        for index in range(14):\n",
    "            value = tensor[0][index].item()\n",
    "            currMax = maxes[index]\n",
    "            currMin = mins[index]\n",
    "            if(value > currMax):\n",
    "                maxes[index] = value\n",
    "            if(value < currMin):\n",
    "                mins[index] = value\n",
    "        value = tensor[-1][0].item()\n",
    "        if(value > maxes[14]):\n",
    "            maxes[14] = value\n",
    "        if(value < mins[14]):\n",
    "            mins[14] = value\n",
    "print(maxes)\n",
    "print(mins)"
   ]
  },
  {
   "cell_type": "code",
   "execution_count": 4,
   "metadata": {},
   "outputs": [
    {
     "name": "stdout",
     "output_type": "stream",
     "text": [
      "column: 0\tmin: 31.0\tincr: 5.466666666666667\thigh: 113.0\tcalculated_high: 113.0\n",
      "column: 1\tmin: 1.0\tincr: 0.4\thigh: 7.0\tcalculated_high: 7.0\n",
      "column: 2\tmin: 0.0\tincr: 33.00859375\thigh: 495.12890625\tcalculated_high: 495.12890625000006\n",
      "column: 3\tmin: -29.0\tincr: 3.8666666666666667\thigh: 29.0\tcalculated_high: 29.0\n",
      "column: 4\tmin: 1.0\tincr: 4.733333333333333\thigh: 72.0\tcalculated_high: 72.0\n",
      "column: 5\tmin: 7.618940435349941e-05\tincr: 0.0008362909934173028\thigh: 0.012620554305613041\tcalculated_high: 0.012620554305613041\n",
      "column: 6\tmin: 17.317169189453125\tincr: 4353.9111470540365\thigh: 65325.984375\tcalculated_high: 65325.984375\n",
      "column: 7\tmin: 33.44824981689453\tincr: 3983.0883458455405\thigh: 59779.7734375\tcalculated_high: 59779.7734375\n",
      "column: 8\tmin: 17.927364349365234\tincr: 9595.703800710042\thigh: 143953.484375\tcalculated_high: 143953.484375\n",
      "column: 9\tmin: 55.530860900878906\tincr: 41011.318775939944\thigh: 615225.3125\tcalculated_high: 615225.3125\n",
      "column: 10\tmin: 55.538421630859375\tincr: 16988.591188557944\thigh: 254884.40625\tcalculated_high: 254884.40625000003\n",
      "column: 11\tmin: 36.76487731933594\tincr: 5223.0682790120445\thigh: 78382.7890625\tcalculated_high: 78382.7890625\n",
      "column: 12\tmin: 36.76171875\tincr: 2602.6822916666665\thigh: 39076.99609375\tcalculated_high: 39076.99609375\n",
      "column: 13\tmin: 36.76139450073242\tincr: 2029.0931205749512\thigh: 30473.158203125\tcalculated_high: 30473.158203125\n",
      "column: 14\tmin: 0.0\tincr: 33.826715087890626\thigh: 507.4007263183594\tcalculated_high: 507.4007263183594\n"
     ]
    }
   ],
   "source": [
    "from torch import tensor, float64\n",
    "#compute the increment for each column with a given bitwidth\n",
    "BITWIDTH = 4\n",
    "\n",
    "incr_vals = []\n",
    "increments = 2**BITWIDTH - 1\n",
    "for idx in range(len(mins)):\n",
    "    low = mins[idx]\n",
    "    high = maxes[idx]\n",
    "    rng = high - low\n",
    "    incr = rng/increments\n",
    "    calc_high = low + incr * increments\n",
    "    incr_vals.append(incr)\n",
    "    print(\"column: \" + str(idx) + \"\\tmin: \" + str(low) + \"\\tincr: \" + str(incr) + \"\\thigh: \" + str(high) + \"\\tcalculated_high: \" + str(calc_high))\n",
    "min_tensor_pre = tensor(mins[0:14], dtype=float64)\n",
    "incr_tensor_pre = tensor(incr_vals[0:14], dtype=float64)\n",
    "min_tensor_post = tensor(mins[14], dtype=float64)\n",
    "incr_tensor_post = tensor(incr_vals[14], dtype=float64)"
   ]
  },
  {
   "cell_type": "code",
   "execution_count": 5,
   "metadata": {},
   "outputs": [
    {
     "name": "stdout",
     "output_type": "stream",
     "text": [
      "tensor([ 3.1000e+01,  1.0000e+00,  0.0000e+00, -2.9000e+01,  1.0000e+00,\n",
      "         7.6189e-05,  1.7317e+01,  3.3448e+01,  1.7927e+01,  5.5531e+01,\n",
      "         5.5538e+01,  3.6765e+01,  3.6762e+01,  3.6761e+01],\n",
      "       dtype=torch.float64)\n",
      "tensor([5.4667e+00, 4.0000e-01, 3.3009e+01, 3.8667e+00, 4.7333e+00, 8.3629e-04,\n",
      "        4.3539e+03, 3.9831e+03, 9.5957e+03, 4.1011e+04, 1.6989e+04, 5.2231e+03,\n",
      "        2.6027e+03, 2.0291e+03], dtype=torch.float64)\n",
      "tensor(0., dtype=torch.float64)\n",
      "tensor(33.8267, dtype=torch.float64)\n"
     ]
    }
   ],
   "source": [
    "print(min_tensor_pre)\n",
    "print(incr_tensor_pre)\n",
    "print(min_tensor_post)\n",
    "print(incr_tensor_post)"
   ]
  },
  {
   "cell_type": "code",
   "execution_count": 23,
   "metadata": {},
   "outputs": [
    {
     "name": "stdout",
     "output_type": "stream",
     "text": [
      "tensor([[5.8000e+01, 2.0000e+00, 3.6937e+00,  ..., 1.6452e+03, 1.5683e+03,\n",
      "         9.7300e+02],\n",
      "        [7.3000e+01, 3.0000e+00, 1.6363e+00,  ..., 1.0946e+03, 8.9427e+02,\n",
      "         7.3725e+02],\n",
      "        [7.4000e+01, 2.0000e+00, 1.1591e+01,  ..., 4.5392e+03, 1.4678e+03,\n",
      "         7.6628e+02],\n",
      "        ...,\n",
      "        [6.4000e+01, 2.0000e+00, 9.2186e+00,  ..., 1.7354e+03, 1.1922e+03,\n",
      "         6.7194e+02],\n",
      "        [7.1000e+01, 2.0000e+00, 7.6534e-01,  ..., 8.9196e+02, 1.6237e+03,\n",
      "         8.8821e+02],\n",
      "        [9.1000e+01, 2.0000e+00, 8.1764e+00,  ..., 2.9541e+03, 1.7474e+03,\n",
      "         8.3617e+02]], dtype=torch.float64)\n"
     ]
    }
   ],
   "source": [
    "#create new, quantized datasets based on min and incr vals above\n",
    "quant_datasets = [None, None, None]\n",
    "for set_idx in range(3):\n",
    "    curr_set = datasets[set_idx]\n",
    "    for row_idx in range(len(curr_set)):\n",
    "        for col_idx in range(14):\n",
    "            curr_val = curr_set[row_idx][0][col_idx].item()\n",
    "            quant_val = int((curr_val - mins[col_idx])/incr_vals[col_idx])\n",
    "            curr_set[row_idx][0][col_idx] = quant_val\n",
    "    quant_datasets[set_idx] = curr_set"
   ]
  },
  {
   "cell_type": "code",
   "execution_count": 6,
   "metadata": {},
   "outputs": [
    {
     "name": "stdout",
     "output_type": "stream",
     "text": [
      "(tensor([[5.8000e+01, 2.0000e+00, 3.6937e+00,  ..., 1.6452e+03, 1.5683e+03,\n",
      "         9.7300e+02],\n",
      "        [7.3000e+01, 3.0000e+00, 1.6363e+00,  ..., 1.0946e+03, 8.9427e+02,\n",
      "         7.3725e+02],\n",
      "        [7.4000e+01, 2.0000e+00, 1.1591e+01,  ..., 4.5392e+03, 1.4678e+03,\n",
      "         7.6628e+02],\n",
      "        ...,\n",
      "        [6.4000e+01, 2.0000e+00, 9.2186e+00,  ..., 1.7354e+03, 1.1922e+03,\n",
      "         6.7194e+02],\n",
      "        [7.1000e+01, 2.0000e+00, 7.6534e-01,  ..., 8.9196e+02, 1.6237e+03,\n",
      "         8.8821e+02],\n",
      "        [9.1000e+01, 2.0000e+00, 8.1764e+00,  ..., 2.9541e+03, 1.7474e+03,\n",
      "         8.3617e+02]], dtype=torch.float64), tensor([[28.0091],\n",
      "        [ 0.0000],\n",
      "        [ 0.0000],\n",
      "        ...,\n",
      "        [17.4846],\n",
      "        [ 0.0000],\n",
      "        [48.8326]], dtype=torch.float64))\n"
     ]
    }
   ],
   "source": [
    "print(datasets[0][:])"
   ]
  },
  {
   "cell_type": "code",
   "execution_count": 9,
   "metadata": {},
   "outputs": [
    {
     "name": "stdout",
     "output_type": "stream",
     "text": [
      "tensor([[5.8000e+01, 2.0000e+00, 3.6937e+00,  ..., 1.6452e+03, 1.5683e+03,\n",
      "         9.7300e+02],\n",
      "        [7.3000e+01, 3.0000e+00, 1.6363e+00,  ..., 1.0946e+03, 8.9427e+02,\n",
      "         7.3725e+02],\n",
      "        [7.4000e+01, 2.0000e+00, 1.1591e+01,  ..., 4.5392e+03, 1.4678e+03,\n",
      "         7.6628e+02],\n",
      "        ...,\n",
      "        [6.4000e+01, 2.0000e+00, 9.2186e+00,  ..., 1.7354e+03, 1.1922e+03,\n",
      "         6.7194e+02],\n",
      "        [7.1000e+01, 2.0000e+00, 7.6534e-01,  ..., 8.9196e+02, 1.6237e+03,\n",
      "         8.8821e+02],\n",
      "        [9.1000e+01, 2.0000e+00, 8.1764e+00,  ..., 2.9541e+03, 1.7474e+03,\n",
      "         8.3617e+02]], dtype=torch.float64)\n",
      "tensor([[ 4,  2,  0,  ...,  0,  0,  0],\n",
      "        [ 7,  5,  0,  ...,  0,  0,  0],\n",
      "        [ 7,  2,  0,  ...,  0,  0,  0],\n",
      "        ...,\n",
      "        [ 6,  2,  0,  ...,  0,  0,  0],\n",
      "        [ 7,  2,  0,  ...,  0,  0,  0],\n",
      "        [10,  2,  0,  ...,  0,  0,  0]], dtype=torch.int8)\n"
     ]
    }
   ],
   "source": [
    "pre = preproc(min_tensor_pre, incr_tensor_pre)\n",
    "post = postproc(min_tensor_post, incr_tensor_post)\n",
    "test_tensor = datasets[0][:][0]\n",
    "print(test_tensor)\n",
    "result = pre(test_tensor)\n",
    "print(result)"
   ]
  },
  {
   "cell_type": "code",
   "execution_count": null,
   "metadata": {},
   "outputs": [],
   "source": []
  }
 ],
 "metadata": {
  "kernelspec": {
   "display_name": "Python 3",
   "language": "python",
   "name": "python3"
  },
  "language_info": {
   "codemirror_mode": {
    "name": "ipython",
    "version": 3
   },
   "file_extension": ".py",
   "mimetype": "text/x-python",
   "name": "python",
   "nbconvert_exporter": "python",
   "pygments_lexer": "ipython3",
   "version": "3.6.8"
  }
 },
 "nbformat": 4,
 "nbformat_minor": 4
}
