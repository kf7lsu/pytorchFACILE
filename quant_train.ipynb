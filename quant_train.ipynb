{
 "cells": [
  {
   "cell_type": "markdown",
   "metadata": {},
   "source": [
    "# Quantized FACILE Training with Brevitas\n",
    "This notebook walks through the steps to train and and validate the Pytorch Brevitas reconstruction of the HCAL Facile model\n",
    "\n",
    "Initial Pytorch conversion by Vladimir Oveckhin\n",
    "Pytorch to Brevitas conversion by Matthew Trahms"
   ]
  },
  {
   "cell_type": "code",
   "execution_count": 1,
   "metadata": {},
   "outputs": [
    {
     "name": "stdout",
     "output_type": "stream",
     "text": [
      "Requirement already satisfied: pandas in /workspace/.local/lib/python3.6/site-packages (1.1.5)\r\n",
      "Requirement already satisfied: python-dateutil>=2.7.3 in /opt/conda/lib/python3.6/site-packages (from pandas) (2.8.1)\r\n",
      "Requirement already satisfied: numpy>=1.15.4 in /opt/conda/lib/python3.6/site-packages (from pandas) (1.19.4)\r\n",
      "Requirement already satisfied: pytz>=2017.2 in /opt/conda/lib/python3.6/site-packages (from pandas) (2019.1)\r\n",
      "Requirement already satisfied: six>=1.5 in /opt/conda/lib/python3.6/site-packages (from python-dateutil>=2.7.3->pandas) (1.15.0)\r\n"
     ]
    }
   ],
   "source": [
    "#install pandas (missing in FINN env)\n",
    "!pip install --user pandas"
   ]
  },
  {
   "cell_type": "code",
   "execution_count": 2,
   "metadata": {},
   "outputs": [],
   "source": [
    "#import the necessary classes and functions\n",
    "from train import train\n",
    "from metrics import Metrics\n",
    "from quant_model import QuantNet\n",
    "from quant_modelV2 import QuantNet_opt\n",
    "#from quantmodelV2_with_proc import QuantNet_opt_proc"
   ]
  },
  {
   "cell_type": "code",
   "execution_count": 3,
   "metadata": {},
   "outputs": [],
   "source": [
    "models_folder = 'quant_models'"
   ]
  },
  {
   "cell_type": "code",
   "execution_count": 5,
   "metadata": {},
   "outputs": [
    {
     "name": "stdout",
     "output_type": "stream",
     "text": [
      "X_train shape: (229538, 14)\n",
      "X_val shape: (12752, 14)\n",
      "X_test shape: (12752, 14)\n",
      "Y_train shape: (229538, 1)\n",
      "Y_val shape: (12752, 1)\n",
      "Y_test shape: (12752, 1)\n",
      "Using saved split data\n",
      "Number of batches per epoch: 460\n",
      "# of Model parameters: 983.0\n",
      "# of features: 14\n",
      "\n",
      "==============================\n",
      "\n",
      "Epoch 1\n",
      "Ave Train Loss: 0.0012742951323425182\n",
      "Ave Val Loss: 0.0007565935800223608\n",
      "Ave Q Train Loss: 1.4519271098076583\n",
      "Ave Q Val Loss: 0.8180677121974892\n",
      "<class 'quant_modelV2.QuantNet_opt'>\n",
      "Min Ave Val Loss: 0.0007565935800223608\n",
      "Saved model\n",
      "\n",
      "==============================\n",
      "\n",
      "Epoch 2\n",
      "Ave Train Loss: 0.0006943488714721338\n",
      "Ave Val Loss: 0.0006485722545380126\n",
      "Ave Q Train Loss: 0.8646823343370493\n",
      "Ave Q Val Loss: 0.896257783418318\n",
      "<class 'quant_modelV2.QuantNet_opt'>\n",
      "Min Ave Val Loss: 0.0006485722545380126\n",
      "Saved model\n",
      "\n",
      "==============================\n",
      "\n",
      "Epoch 3\n",
      "Ave Train Loss: 0.0006165088164624492\n",
      "Ave Val Loss: 0.0005602171864253065\n",
      "Ave Q Train Loss: 0.840862290955135\n",
      "Ave Q Val Loss: 0.6991188666751723\n",
      "<class 'quant_modelV2.QuantNet_opt'>\n",
      "Min Ave Val Loss: 0.0005602171864253065\n",
      "Saved model\n",
      "\n",
      "==============================\n",
      "\n",
      "Epoch 4\n",
      "Ave Train Loss: 0.0006014183190259287\n",
      "Ave Val Loss: 0.0006507528347513607\n",
      "Ave Q Train Loss: 0.745376040879448\n",
      "Ave Q Val Loss: 0.9055203410283834\n",
      "Min Ave Val Loss: 0.0005602171864253065\n",
      "\n",
      "==============================\n",
      "\n",
      "Epoch 5\n",
      "Ave Train Loss: 0.0005984883680952009\n",
      "Ave Val Loss: 0.0006774141788576149\n",
      "Ave Q Train Loss: 0.7265258047322273\n",
      "Ave Q Val Loss: 0.9438358567739221\n",
      "Min Ave Val Loss: 0.0005602171864253065\n",
      "\n",
      "==============================\n",
      "\n",
      "<class 'quant_modelV2.QuantNet_opt'>\n"
     ]
    },
    {
     "data": {
      "image/png": "[encoded data removed]",
      "text/plain": [
       "<Figure size 432x288 with 1 Axes>"
      ]
     },
     "metadata": {
      "needs_background": "light"
     },
     "output_type": "display_data"
    },
    {
     "name": "stdout",
     "output_type": "stream",
     "text": [
      "<class 'quant_modelV2.QuantNet_opt'>\n"
     ]
    }
   ],
   "source": [
    "#train (mimicing structure in train.py)\n",
    "metrics = Metrics()\n",
    "model = None\n",
    "try:\n",
    "    model = train(QuantNet_opt, metrics=metrics, models_folder_path=models_folder, quantized=True)\n",
    "except KeyboardInterrupt:\n",
    "    print(\"Interrupted\")\n",
    "finally:\n",
    "    metrics.plot_losses()\n",
    "print(type(model))"
   ]
  },
  {
   "cell_type": "code",
   "execution_count": 6,
   "metadata": {},
   "outputs": [
    {
     "name": "stdout",
     "output_type": "stream",
     "text": [
      "X_train shape: (229538, 14)\n",
      "X_val shape: (12752, 14)\n",
      "X_test shape: (12752, 14)\n",
      "Y_train shape: (229538, 1)\n",
      "Y_val shape: (12752, 1)\n",
      "Y_test shape: (12752, 1)\n",
      "Using saved split data\n",
      "Ave Test Loss: 0.25565199963078006\n",
      "Ave Q Test Loss: 241.27013916850686\n"
     ]
    }
   ],
   "source": [
    "#test inference\n",
    "import torch\n",
    "import utils\n",
    "from torch.utils.data import DataLoader\n",
    "from processing_for_train import FACILE_preproc as preproc\n",
    "from processing_for_train import FACILE_postproc as postproc\n",
    "from processing_for_train import FACILE_preproc_out as preproc_out\n",
    "\n",
    "batch_size=1\n",
    "train_set, val_set, test_set, n_features = utils.load_torch_datasets()\n",
    "gen_params = {\n",
    "                \"batch_size\": batch_size,\n",
    "                \"shuffle\": True,\n",
    "            }\n",
    "test_gen = DataLoader(test_set, **gen_params)\n",
    "#ensure model in evaluation mode\n",
    "model.eval()\n",
    "loss_fn = torch.nn.MSELoss()\n",
    "\n",
    "total_test_loss = 0\n",
    "total_test_loss_quant = 0\n",
    "n_test_samples = 0\n",
    "\n",
    "for test_batch, labels_batch in test_gen:\n",
    "    n_test_samples += test_batch.shape[0]\n",
    "\n",
    "    labels_batch_q = labels_batch\n",
    "    labels_batch = preproc_out(labels_batch.float())\n",
    "    output_batch = preproc(test_batch.float())\n",
    "    output_batch = model(output_batch)\n",
    "    #output_batch = postproc(output_batch).float()\n",
    "    #output_batch = torch.trunc(output_batch)\n",
    "    output_batch_quant = torch.round(output_batch)\n",
    "    output_batch_quant = postproc(output_batch_quant)\n",
    "    q_loss = loss_fn(output_batch_quant.float(), labels_batch_q.float())\n",
    "    total_test_loss_quant += q_loss.item()\n",
    "    loss = loss_fn(output_batch.float(), labels_batch.float())\n",
    "    total_test_loss += loss.item()\n",
    "\n",
    "ave_test_loss = total_test_loss / n_test_samples\n",
    "ave_test_loss_q = total_test_loss_quant / n_test_samples\n",
    "\n",
    "print(f\"Ave Test Loss: {ave_test_loss}\")\n",
    "print(f\"Ave Q Test Loss: {ave_test_loss_q}\")"
   ]
  },
  {
   "cell_type": "code",
   "execution_count": null,
   "metadata": {},
   "outputs": [],
   "source": []
  },
  {
   "cell_type": "code",
   "execution_count": 8,
   "metadata": {},
   "outputs": [],
   "source": [
    "#export to onnx finn format\n",
    "from brevitas.onnx import export_finn_onnx\n",
    "input_shape = [1,14]\n",
    "export_finn_onnx(model, input_shape, models_folder + \"/facileV3_4b_1.onnx\")"
   ]
  },
  {
   "cell_type": "code",
   "execution_count": null,
   "metadata": {},
   "outputs": [],
   "source": []
  }
 ],
 "metadata": {
  "kernelspec": {
   "display_name": "Python 3",
   "language": "python",
   "name": "python3"
  },
  "language_info": {
   "codemirror_mode": {
    "name": "ipython",
    "version": 3
   },
   "file_extension": ".py",
   "mimetype": "text/x-python",
   "name": "python",
   "nbconvert_exporter": "python",
   "pygments_lexer": "ipython3",
   "version": "3.6.8"
  }
 },
 "nbformat": 4,
 "nbformat_minor": 4
}
