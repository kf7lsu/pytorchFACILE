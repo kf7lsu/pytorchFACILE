{
 "cells": [
  {
   "cell_type": "markdown",
   "metadata": {},
   "source": [
    "# Quantized FACILE Training with Brevitas\n",
    "This notebook walks through the steps to train and and validate the Pytorch Brevitas reconstruction of the HCAL Facile model\n",
    "\n",
    "Initial Pytorch conversion by Vladimir Oveckhin\n",
    "Pytorch to Brevitas conversion by Matthew Trahms"
   ]
  },
  {
   "cell_type": "code",
   "execution_count": 1,
   "metadata": {},
   "outputs": [
    {
     "name": "stdout",
     "output_type": "stream",
     "text": [
      "Collecting pandas\n",
      "\u001b[?25l  Downloading https://files.pythonhosted.org/packages/c3/e2/00cacecafbab071c787019f00ad84ca3185952f6bb9bca9550ed83870d4d/pandas-1.1.5-cp36-cp36m-manylinux1_x86_64.whl (9.5MB)\n",
      "\u001b[K     |################################| 9.5MB 1.7MB/s eta 0:00:01\n",
      "\u001b[?25hRequirement already satisfied: numpy>=1.15.4 in /opt/conda/lib/python3.6/site-packages (from pandas) (1.19.4)\n",
      "Requirement already satisfied: pytz>=2017.2 in /opt/conda/lib/python3.6/site-packages (from pandas) (2019.1)\n",
      "Requirement already satisfied: python-dateutil>=2.7.3 in /opt/conda/lib/python3.6/site-packages (from pandas) (2.8.1)\n",
      "Requirement already satisfied: six>=1.5 in /opt/conda/lib/python3.6/site-packages (from python-dateutil>=2.7.3->pandas) (1.15.0)\n",
      "Installing collected packages: pandas\n",
      "Successfully installed pandas-1.1.5\n"
     ]
    }
   ],
   "source": [
    "#install pandas (missing in FINN env)\n",
    "!pip install --user pandas"
   ]
  },
  {
   "cell_type": "code",
   "execution_count": 1,
   "metadata": {},
   "outputs": [],
   "source": [
    "#import the necessary classes and functions\n",
    "from train import train\n",
    "from metrics import Metrics\n",
    "from quant_model import QuantNet\n",
    "from quant_modelV2 import QuantNet_opt\n",
    "#from quantmodelV2_with_proc import QuantNet_opt_proc"
   ]
  },
  {
   "cell_type": "code",
   "execution_count": 2,
   "metadata": {},
   "outputs": [],
   "source": [
    "models_folder = 'quant_models'"
   ]
  },
  {
   "cell_type": "code",
   "execution_count": 3,
   "metadata": {},
   "outputs": [
    {
     "name": "stdout",
     "output_type": "stream",
     "text": [
      "X_train shape: (229538, 14)\n",
      "X_val shape: (12752, 14)\n",
      "X_test shape: (12752, 14)\n",
      "Y_train shape: (229538, 1)\n",
      "Y_val shape: (12752, 1)\n",
      "Y_test shape: (12752, 1)\n",
      "Using saved split data\n",
      "Number of batches per epoch: 229538\n",
      "# of Model parameters: 861.0\n",
      "# of features: 14\n",
      "\n",
      "==============================\n",
      "\n",
      "Epoch 1\n",
      "Ave Train Loss: 4.680950682434038\n",
      "Ave Val Loss: 2.0159698140880797\n",
      "Ave Q Train Loss: 304.3095184662921\n",
      "Ave Q Val Loss: 130.4387005341935\n",
      "<class 'quant_modelV2.QuantNet_opt'>\n",
      "Min Ave Val Loss: 2.0159698140880797\n",
      "Saved model\n",
      "\n",
      "==============================\n",
      "\n",
      "Epoch 2\n",
      "Ave Train Loss: 1.956947471159027\n",
      "Ave Val Loss: 1.884952839270164\n",
      "Ave Q Train Loss: 127.49632082570437\n",
      "Ave Q Val Loss: 122.69258408910089\n",
      "<class 'quant_modelV2.QuantNet_opt'>\n",
      "Min Ave Val Loss: 1.884952839270164\n",
      "Saved model\n",
      "\n",
      "==============================\n",
      "\n",
      "Epoch 3\n",
      "Ave Train Loss: 1.8016059000550195\n",
      "Ave Val Loss: 1.6306234727080862\n",
      "Ave Q Train Loss: 117.69412735195904\n",
      "Ave Q Val Loss: 112.37638619233576\n",
      "<class 'quant_modelV2.QuantNet_opt'>\n",
      "Min Ave Val Loss: 1.6306234727080862\n",
      "Saved model\n",
      "\n",
      "==============================\n",
      "\n",
      "Epoch 4\n",
      "Ave Train Loss: 1.7421553781119932\n",
      "Ave Val Loss: 1.6200201763660889\n",
      "Ave Q Train Loss: 114.50102978743054\n",
      "Ave Q Val Loss: 105.34748523121998\n",
      "<class 'quant_modelV2.QuantNet_opt'>\n",
      "Min Ave Val Loss: 1.6200201763660889\n",
      "Saved model\n",
      "\n",
      "==============================\n",
      "\n",
      "Epoch 5\n",
      "Ave Train Loss: 1.6600831998303567\n",
      "Ave Val Loss: 1.4080996895051818\n",
      "Ave Q Train Loss: 108.4822420122059\n",
      "Ave Q Val Loss: 92.09743323425329\n",
      "<class 'quant_modelV2.QuantNet_opt'>\n",
      "Min Ave Val Loss: 1.4080996895051818\n",
      "Saved model\n",
      "\n",
      "==============================\n",
      "\n",
      "Epoch 6\n",
      "Ave Train Loss: 1.6275949945231027\n",
      "Ave Val Loss: 1.49431417645762\n",
      "Ave Q Train Loss: 106.42967494718154\n",
      "Ave Q Val Loss: 96.38001454569545\n",
      "Min Ave Val Loss: 1.4080996895051818\n",
      "\n",
      "==============================\n",
      "\n",
      "Epoch 7\n",
      "Ave Train Loss: 1.637053172000974\n",
      "Ave Val Loss: 1.4584729136988617\n",
      "Ave Q Train Loss: 106.98516788232618\n",
      "Ave Q Val Loss: 96.0631836718197\n",
      "Min Ave Val Loss: 1.4080996895051818\n",
      "\n",
      "==============================\n",
      "\n",
      "Epoch 8\n",
      "Ave Train Loss: 1.635675078405594\n",
      "Ave Val Loss: 1.549693455234426\n",
      "Ave Q Train Loss: 109.21452284751179\n",
      "Ave Q Val Loss: 99.02542717455118\n",
      "Min Ave Val Loss: 1.4080996895051818\n",
      "\n",
      "==============================\n",
      "\n",
      "Epoch 9\n",
      "Ave Train Loss: 1.6127353057892542\n",
      "Ave Val Loss: 1.3248049796894263\n",
      "Ave Q Train Loss: 107.12881512276908\n",
      "Ave Q Val Loss: 83.99763746005777\n",
      "<class 'quant_modelV2.QuantNet_opt'>\n",
      "Min Ave Val Loss: 1.3248049796894263\n",
      "Saved model\n",
      "\n",
      "==============================\n",
      "\n",
      "Epoch 10\n",
      "Ave Train Loss: 1.5639573336017076\n",
      "Ave Val Loss: 1.4652259945046084\n",
      "Ave Q Train Loss: 103.40106599651997\n",
      "Ave Q Val Loss: 114.43920295971014\n",
      "Min Ave Val Loss: 1.3248049796894263\n",
      "\n",
      "==============================\n",
      "\n",
      "Epoch 11\n",
      "Ave Train Loss: 1.5773505576728801\n",
      "Ave Val Loss: 1.6377970821004615\n",
      "Ave Q Train Loss: 104.50817896806267\n",
      "Ave Q Val Loss: 106.20592064344214\n",
      "Min Ave Val Loss: 1.3248049796894263\n",
      "\n",
      "==============================\n",
      "\n",
      "Epoch 12\n",
      "Ave Train Loss: 1.564575743473325\n",
      "Ave Val Loss: 1.8019597740845161\n",
      "Ave Q Train Loss: 103.23019103398137\n",
      "Ave Q Val Loss: 136.76713457777953\n",
      "Min Ave Val Loss: 1.3248049796894263\n",
      "\n",
      "==============================\n",
      "\n",
      "Epoch 13\n",
      "Ave Train Loss: 1.5620775756776488\n",
      "Ave Val Loss: 1.31699169544686\n",
      "Ave Q Train Loss: 102.66745366528745\n",
      "Ave Q Val Loss: 86.1507410377663\n",
      "<class 'quant_modelV2.QuantNet_opt'>\n",
      "Min Ave Val Loss: 1.31699169544686\n",
      "Saved model\n",
      "\n",
      "==============================\n",
      "\n",
      "Epoch 14\n",
      "Ave Train Loss: 1.558064474441997\n",
      "Ave Val Loss: 1.5141174659546124\n",
      "Ave Q Train Loss: 103.23581346151134\n",
      "Ave Q Val Loss: 98.64870654865193\n",
      "Min Ave Val Loss: 1.31699169544686\n",
      "\n",
      "==============================\n",
      "\n",
      "Epoch 15\n",
      "Ave Train Loss: 1.5218169683043796\n",
      "Ave Val Loss: 1.3390018610706527\n",
      "Ave Q Train Loss: 100.73793843937673\n",
      "Ave Q Val Loss: 87.81243571022632\n",
      "Min Ave Val Loss: 1.31699169544686\n",
      "\n",
      "==============================\n",
      "\n",
      "Epoch 16\n",
      "Ave Train Loss: 1.4998007402138243\n",
      "Ave Val Loss: 1.903757335036299\n",
      "Ave Q Train Loss: 98.95621584965102\n",
      "Ave Q Val Loss: 121.15121299496528\n",
      "Min Ave Val Loss: 1.31699169544686\n",
      "\n",
      "==============================\n",
      "\n",
      "Epoch 17\n",
      "Ave Train Loss: 1.4975007831298985\n",
      "Ave Val Loss: 1.5037515281894853\n",
      "Ave Q Train Loss: 98.44480119224025\n",
      "Ave Q Val Loss: 97.01719257184811\n",
      "Min Ave Val Loss: 1.31699169544686\n",
      "\n",
      "==============================\n",
      "\n",
      "Epoch 18\n",
      "Ave Train Loss: 1.4573873702212392\n",
      "Ave Val Loss: 1.2799819422126861\n",
      "Ave Q Train Loss: 95.43504729775142\n",
      "Ave Q Val Loss: 81.67309637325982\n",
      "<class 'quant_modelV2.QuantNet_opt'>\n",
      "Min Ave Val Loss: 1.2799819422126861\n",
      "Saved model\n",
      "\n",
      "==============================\n",
      "\n",
      "Epoch 19\n",
      "Ave Train Loss: 1.466372832247106\n",
      "Ave Val Loss: 1.3864633966173343\n",
      "Ave Q Train Loss: 95.67451111690231\n",
      "Ave Q Val Loss: 91.4313907538307\n",
      "Min Ave Val Loss: 1.2799819422126861\n",
      "\n",
      "==============================\n",
      "\n",
      "Epoch 20\n",
      "Ave Train Loss: 1.4462736657684192\n",
      "Ave Val Loss: 1.3083802269268048\n",
      "Ave Q Train Loss: 94.46971913027961\n",
      "Ave Q Val Loss: 87.30689033179888\n",
      "Min Ave Val Loss: 1.2799819422126861\n",
      "\n",
      "==============================\n",
      "\n",
      "<class 'quant_modelV2.QuantNet_opt'>\n"
     ]
    },
    {
     "data": {
      "image/png": "[encoded data removed]",
      "text/plain": [
       "<Figure size 432x288 with 1 Axes>"
      ]
     },
     "metadata": {
      "needs_background": "light"
     },
     "output_type": "display_data"
    },
    {
     "name": "stdout",
     "output_type": "stream",
     "text": [
      "<class 'quant_modelV2.QuantNet_opt'>\n"
     ]
    }
   ],
   "source": [
    "#train (mimicing structure in train.py)\n",
    "metrics = Metrics()\n",
    "model = None\n",
    "try:\n",
    "    model = train(QuantNet_opt, metrics=metrics, models_folder_path=models_folder, quantized=True)\n",
    "except KeyboardInterrupt:\n",
    "    print(\"Interrupted\")\n",
    "finally:\n",
    "    metrics.plot_losses()\n",
    "print(type(model))"
   ]
  },
  {
   "cell_type": "code",
   "execution_count": 4,
   "metadata": {},
   "outputs": [
    {
     "name": "stdout",
     "output_type": "stream",
     "text": [
      "X_train shape: (229538, 14)\n",
      "X_val shape: (12752, 14)\n",
      "X_test shape: (12752, 14)\n",
      "Y_train shape: (229538, 1)\n",
      "Y_val shape: (12752, 1)\n",
      "Y_test shape: (12752, 1)\n",
      "Using saved split data\n",
      "Ave Test Loss: 1.3083802269268048\n",
      "Ave Q Test Loss: 87.30689033179888\n"
     ]
    }
   ],
   "source": [
    "#test inference\n",
    "import torch\n",
    "import utils\n",
    "from torch.utils.data import DataLoader\n",
    "from processing_for_train import FACILE_preproc as preproc\n",
    "from processing_for_train import FACILE_postproc as postproc\n",
    "from processing_for_train import FACILE_preproc_out as preproc_out\n",
    "\n",
    "batch_size=1\n",
    "train_set, val_set, test_set, n_features = utils.load_torch_datasets()\n",
    "gen_params = {\n",
    "                \"batch_size\": batch_size,\n",
    "                \"shuffle\": True,\n",
    "            }\n",
    "test_gen = DataLoader(val_set, **gen_params)#DataLoader(test_set, **gen_params)\n",
    "#ensure model in evaluation mode\n",
    "model.eval()\n",
    "loss_fn = torch.nn.MSELoss()\n",
    "\n",
    "total_test_loss = 0\n",
    "total_test_loss_quant = 0\n",
    "n_test_samples = 0\n",
    "\n",
    "for test_batch, labels_batch in test_gen:\n",
    "    n_test_samples += test_batch.shape[0]\n",
    "\n",
    "    labels_batch_q = labels_batch\n",
    "    labels_batch = preproc_out(labels_batch.float())\n",
    "    output_batch = preproc(test_batch.float())\n",
    "    output_batch = model(output_batch)\n",
    "    #output_batch = postproc(output_batch).float()\n",
    "    #output_batch = torch.trunc(output_batch)\n",
    "    output_batch_quant = torch.round(output_batch)\n",
    "    output_batch_quant = postproc(output_batch_quant)\n",
    "    q_loss = loss_fn(output_batch_quant.float(), labels_batch_q.float())\n",
    "    total_test_loss_quant += q_loss.item()\n",
    "    loss = loss_fn(output_batch.float(), labels_batch.float())\n",
    "    total_test_loss += loss.item()\n",
    "\n",
    "ave_test_loss = total_test_loss / n_test_samples\n",
    "ave_test_loss_q = total_test_loss_quant / n_test_samples\n",
    "\n",
    "print(f\"Ave Test Loss: {ave_test_loss}\")\n",
    "print(f\"Ave Q Test Loss: {ave_test_loss_q}\")"
   ]
  },
  {
   "cell_type": "code",
   "execution_count": 5,
   "metadata": {},
   "outputs": [],
   "source": [
    "#export to onnx finn format\n",
    "from brevitas.onnx import export_finn_onnx\n",
    "input_shape = [1,14]\n",
    "export_finn_onnx(model, input_shape, models_folder + \"/facileV3_4b_1.onnx\")#, batch_size=1)"
   ]
  },
  {
   "cell_type": "code",
   "execution_count": 6,
   "metadata": {},
   "outputs": [
    {
     "name": "stdout",
     "output_type": "stream",
     "text": [
      "imports\n"
     ]
    }
   ],
   "source": [
    "from utils import load_split_np_data\n",
    "import proc_for_infer as pfi\n",
    "from finn.core.onnx_exec import execute_onnx as exe_onnx\n",
    "from finn.core.modelwrapper import ModelWrapper\n",
    "from finn.transformation.infer_shapes import InferShapes\n",
    "from finn.transformation.fold_constants import FoldConstants\n",
    "from finn.transformation.general import GiveReadableTensorNames, GiveUniqueNodeNames, RemoveStaticGraphInputs\n",
    "from finn.transformation.infer_datatypes import InferDataTypes\n",
    "print('imports')"
   ]
  },
  {
   "cell_type": "code",
   "execution_count": 7,
   "metadata": {},
   "outputs": [
    {
     "name": "stdout",
     "output_type": "stream",
     "text": [
      "model loaded\n"
     ]
    }
   ],
   "source": [
    "model = ModelWrapper(\"quant_models/facileV3_4b_1.onnx\")\n",
    "print('model loaded')"
   ]
  },
  {
   "cell_type": "code",
   "execution_count": null,
   "metadata": {},
   "outputs": [],
   "source": [
    "model = model.transform(InferShapes())\n",
    "model = model.transform(FoldConstants())\n",
    "model = model.transform(GiveUniqueNodeNames())\n",
    "model = model.transform(GiveReadableTensorNames())\n",
    "model = model.transform(InferDataTypes())\n",
    "model = model.transform(RemoveStaticGraphInputs())\n",
    "print('transformed')"
   ]
  },
  {
   "cell_type": "code",
   "execution_count": 12,
   "metadata": {},
   "outputs": [
    {
     "name": "stdout",
     "output_type": "stream",
     "text": [
      "tensors acq\n",
      "X_train shape: (229538, 14)\n",
      "X_val shape: (12752, 14)\n",
      "X_test shape: (12752, 14)\n",
      "Y_train shape: (229538, 1)\n",
      "Y_val shape: (12752, 1)\n",
      "Y_test shape: (12752, 1)\n",
      "Using saved split data\n",
      "datasets loaded, starting inf\n"
     ]
    },
    {
     "ename": "Exception",
     "evalue": "Found unspecified tensor shapes, try infer_shapes",
     "output_type": "error",
     "traceback": [
      "\u001b[0;31m---------------------------------------------------------------------------\u001b[0m",
      "\u001b[0;31mException\u001b[0m                                 Traceback (most recent call last)",
      "\u001b[0;32m<ipython-input-12-5b137fb08808>\u001b[0m in \u001b[0;36m<module>\u001b[0;34m\u001b[0m\n\u001b[1;32m     23\u001b[0m     \u001b[0;31m#print(inp_dict[in_tensor].shape)\u001b[0m\u001b[0;34m\u001b[0m\u001b[0;34m\u001b[0m\u001b[0;34m\u001b[0m\u001b[0m\n\u001b[1;32m     24\u001b[0m     \u001b[0;31m#batch_out = accel.execute(proc_batch)\u001b[0m\u001b[0;34m\u001b[0m\u001b[0;34m\u001b[0m\u001b[0;34m\u001b[0m\u001b[0m\n\u001b[0;32m---> 25\u001b[0;31m     \u001b[0mout_dict\u001b[0m \u001b[0;34m=\u001b[0m \u001b[0mexe_onnx\u001b[0m\u001b[0;34m(\u001b[0m\u001b[0mmodel\u001b[0m\u001b[0;34m,\u001b[0m \u001b[0minp_dict\u001b[0m\u001b[0;34m)\u001b[0m\u001b[0;34m\u001b[0m\u001b[0;34m\u001b[0m\u001b[0m\n\u001b[0m\u001b[1;32m     26\u001b[0m     \u001b[0mbatch_out\u001b[0m \u001b[0;34m=\u001b[0m \u001b[0mout_dict\u001b[0m\u001b[0;34m[\u001b[0m\u001b[0mout_tensor\u001b[0m\u001b[0;34m]\u001b[0m\u001b[0;34m\u001b[0m\u001b[0;34m\u001b[0m\u001b[0m\n\u001b[1;32m     27\u001b[0m     \u001b[0mbatch_out\u001b[0m \u001b[0;34m=\u001b[0m \u001b[0mbatch_out\u001b[0m\u001b[0;34m.\u001b[0m\u001b[0mastype\u001b[0m\u001b[0;34m(\u001b[0m\u001b[0;34m\"int8\"\u001b[0m\u001b[0;34m)\u001b[0m\u001b[0;34m\u001b[0m\u001b[0;34m\u001b[0m\u001b[0m\n",
      "\u001b[0;32m/workspace/finn-base/src/finn/core/onnx_exec.py\u001b[0m in \u001b[0;36mexecute_onnx\u001b[0;34m(model, input_dict, return_full_exec_context, start_node, end_node)\u001b[0m\n\u001b[1;32m    148\u001b[0m \u001b[0;34m\u001b[0m\u001b[0m\n\u001b[1;32m    149\u001b[0m     \u001b[0;32mif\u001b[0m \u001b[0;32mnot\u001b[0m \u001b[0mmodel\u001b[0m\u001b[0;34m.\u001b[0m\u001b[0mcheck_all_tensor_shapes_specified\u001b[0m\u001b[0;34m(\u001b[0m\u001b[0;34m)\u001b[0m\u001b[0;34m:\u001b[0m\u001b[0;34m\u001b[0m\u001b[0;34m\u001b[0m\u001b[0m\n\u001b[0;32m--> 150\u001b[0;31m         \u001b[0;32mraise\u001b[0m \u001b[0mException\u001b[0m\u001b[0;34m(\u001b[0m\u001b[0;34m\"Found unspecified tensor shapes, try infer_shapes\"\u001b[0m\u001b[0;34m)\u001b[0m\u001b[0;34m\u001b[0m\u001b[0;34m\u001b[0m\u001b[0m\n\u001b[0m\u001b[1;32m    151\u001b[0m     \u001b[0mret\u001b[0m \u001b[0;34m=\u001b[0m \u001b[0mmodel\u001b[0m\u001b[0;34m.\u001b[0m\u001b[0manalysis\u001b[0m\u001b[0;34m(\u001b[0m\u001b[0mta\u001b[0m\u001b[0;34m.\u001b[0m\u001b[0mnodes_topologically_sorted\u001b[0m\u001b[0;34m)\u001b[0m\u001b[0;34m\u001b[0m\u001b[0;34m\u001b[0m\u001b[0m\n\u001b[1;32m    152\u001b[0m     assert (\n",
      "\u001b[0;31mException\u001b[0m: Found unspecified tensor shapes, try infer_shapes"
     ]
    }
   ],
   "source": [
    "in_tensor = model.graph.input[0].name\n",
    "out_tensor = model.graph.output[0].name\n",
    "print('tensors acq')\n",
    "\n",
    "datasets = load_split_np_data()\n",
    "print('datasets loaded, starting inf')\n",
    "\n",
    "batch_size=1\n",
    "inps = datasets[1]\n",
    "exp_out = datasets[4]\n",
    "valid_size = len(exp_out)\n",
    "num_batches = int(valid_size/batch_size)\n",
    "running_error_square = 0\n",
    "for i in range(0, num_batches):\n",
    "    #print(i)\n",
    "    batch = inps[(i*batch_size):((i+1)*batch_size)]\n",
    "    #print(batch.shape)\n",
    "    batch_exp_out = exp_out[(i*batch_size):((i+1)*batch_size)]\n",
    "    proc_batch = pfi.preproc(batch)\n",
    "    #print(proc_batch.shape)\n",
    "    proc_batch = proc_batch.astype(\"float32\")\n",
    "    inp_dict = {in_tensor : proc_batch}\n",
    "    #print(inp_dict[in_tensor].shape)\n",
    "    #batch_out = accel.execute(proc_batch)\n",
    "    out_dict = exe_onnx(model, inp_dict)\n",
    "    batch_out = out_dict[out_tensor]\n",
    "    batch_out = batch_out.astype(\"int8\")\n",
    "    #print(batch_out)\n",
    "    batch_proc_out = pfi.postproc(batch_out)\n",
    "    batch_errs = batch_proc_out-batch_exp_out\n",
    "    batch_sq_errs = batch_errs*batch_errs\n",
    "    running_error_square += sum(batch_sq_errs)\n",
    "print(\"MSE: \" + str(running_error_square / (num_batches * batch_size)))"
   ]
  },
  {
   "cell_type": "code",
   "execution_count": null,
   "metadata": {},
   "outputs": [],
   "source": []
  }
 ],
 "metadata": {
  "kernelspec": {
   "display_name": "Python 3",
   "language": "python",
   "name": "python3"
  },
  "language_info": {
   "codemirror_mode": {
    "name": "ipython",
    "version": 3
   },
   "file_extension": ".py",
   "mimetype": "text/x-python",
   "name": "python",
   "nbconvert_exporter": "python",
   "pygments_lexer": "ipython3",
   "version": "3.6.8"
  }
 },
 "nbformat": 4,
 "nbformat_minor": 4
}
