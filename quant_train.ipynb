{
 "cells": [
  {
   "cell_type": "markdown",
   "metadata": {},
   "source": [
    "# Quantized FACILE Training with Brevitas\n",
    "This notebook walks through the steps to train and and validate the Pytorch Brevitas reconstruction of the HCAL Facile model\n",
    "\n",
    "Initial Pytorch conversion by Vladimir Oveckhin\n",
    "Pytorch to Brevitas conversion by Matthew Trahms"
   ]
  },
  {
   "cell_type": "code",
   "execution_count": 1,
   "metadata": {},
   "outputs": [
    {
     "name": "stdout",
     "output_type": "stream",
     "text": [
      "Collecting pandas\n",
      "\u001b[?25l  Downloading https://files.pythonhosted.org/packages/c3/e2/00cacecafbab071c787019f00ad84ca3185952f6bb9bca9550ed83870d4d/pandas-1.1.5-cp36-cp36m-manylinux1_x86_64.whl (9.5MB)\n",
      "\u001b[K     |################################| 9.5MB 1.9MB/s eta 0:00:01\n",
      "\u001b[?25hRequirement already satisfied: python-dateutil>=2.7.3 in /opt/conda/lib/python3.6/site-packages (from pandas) (2.8.1)\n",
      "Requirement already satisfied: pytz>=2017.2 in /opt/conda/lib/python3.6/site-packages (from pandas) (2019.1)\n",
      "Requirement already satisfied: numpy>=1.15.4 in /opt/conda/lib/python3.6/site-packages (from pandas) (1.19.4)\n",
      "Requirement already satisfied: six>=1.5 in /opt/conda/lib/python3.6/site-packages (from python-dateutil>=2.7.3->pandas) (1.15.0)\n",
      "Installing collected packages: pandas\n",
      "Successfully installed pandas-1.1.5\n"
     ]
    }
   ],
   "source": [
    "#install pandas (missing in FINN env)\n",
    "!pip install --user pandas"
   ]
  },
  {
   "cell_type": "code",
   "execution_count": 1,
   "metadata": {},
   "outputs": [],
   "source": [
    "#import the necessary classes and functions\n",
    "from train import train\n",
    "from metrics import Metrics\n",
    "from quant_model import QuantNet\n",
    "from quant_modelV2 import QuantNet_opt\n",
    "#from quantmodelV2_with_proc import QuantNet_opt_proc"
   ]
  },
  {
   "cell_type": "code",
   "execution_count": 2,
   "metadata": {},
   "outputs": [],
   "source": [
    "models_folder = 'quant_models'"
   ]
  },
  {
   "cell_type": "code",
   "execution_count": 3,
   "metadata": {},
   "outputs": [
    {
     "name": "stdout",
     "output_type": "stream",
     "text": [
      "X_train shape: (229538, 14)\n",
      "X_val shape: (12752, 14)\n",
      "X_test shape: (12752, 14)\n",
      "Y_train shape: (229538, 1)\n",
      "Y_val shape: (12752, 1)\n",
      "Y_test shape: (12752, 1)\n",
      "Using saved split data\n",
      "Number of batches per epoch: 229538\n",
      "# of Model parameters: 862.0\n",
      "# of features: 14\n",
      "\n",
      "==============================\n",
      "\n",
      "Epoch 1\n",
      "Ave Train Loss: 5.550768933486762\n",
      "Ave Val Loss: 2.0705348871836153\n",
      "Ave Q Train Loss: 361.8367520066475\n",
      "Ave Q Val Loss: 131.09042548716593\n",
      "<class 'quant_modelV2.QuantNet_opt'>\n",
      "Min Ave Val Loss: 2.0705348871836153\n",
      "Saved model\n",
      "\n",
      "==============================\n",
      "\n",
      "Epoch 2\n",
      "Ave Train Loss: 2.207678474093922\n",
      "Ave Val Loss: 2.0810310636633185\n",
      "Ave Q Train Loss: 144.79399735541614\n",
      "Ave Q Val Loss: 139.3939282422172\n",
      "Min Ave Val Loss: 2.0705348871836153\n",
      "\n",
      "==============================\n",
      "\n",
      "Epoch 3\n",
      "Ave Train Loss: 1.9920932887536336\n",
      "Ave Val Loss: 2.2675221489183217\n",
      "Ave Q Train Loss: 129.84816991668072\n",
      "Ave Q Val Loss: 157.03360884800932\n",
      "Min Ave Val Loss: 2.0705348871836153\n",
      "\n",
      "==============================\n",
      "\n",
      "Epoch 4\n",
      "Ave Train Loss: 1.8767650568614112\n",
      "Ave Val Loss: 1.644800870112447\n",
      "Ave Q Train Loss: 122.91955403073817\n",
      "Ave Q Val Loss: 103.04639307767124\n",
      "<class 'quant_modelV2.QuantNet_opt'>\n",
      "Min Ave Val Loss: 1.644800870112447\n",
      "Saved model\n",
      "\n",
      "==============================\n",
      "\n",
      "Epoch 5\n",
      "Ave Train Loss: 1.8675121846983609\n",
      "Ave Val Loss: 1.6887845809573334\n",
      "Ave Q Train Loss: 121.47566933559473\n",
      "Ave Q Val Loss: 113.69161225985825\n",
      "Min Ave Val Loss: 1.644800870112447\n",
      "\n",
      "==============================\n",
      "\n",
      "Epoch 6\n",
      "Ave Train Loss: 1.8098065773463994\n",
      "Ave Val Loss: 1.5767117631716374\n",
      "Ave Q Train Loss: 117.05290388545758\n",
      "Ave Q Val Loss: 103.36671281088066\n",
      "<class 'quant_modelV2.QuantNet_opt'>\n",
      "Min Ave Val Loss: 1.5767117631716374\n",
      "Saved model\n",
      "\n",
      "==============================\n",
      "\n",
      "Epoch 7\n",
      "Ave Train Loss: 1.7693133432568804\n",
      "Ave Val Loss: 1.8942425440075896\n",
      "Ave Q Train Loss: 115.09761253133404\n",
      "Ave Q Val Loss: 122.8751600922887\n",
      "Min Ave Val Loss: 1.5767117631716374\n",
      "\n",
      "==============================\n",
      "\n",
      "Epoch 8\n",
      "Ave Train Loss: 1.7535871425474918\n",
      "Ave Val Loss: 1.5457066950576899\n",
      "Ave Q Train Loss: 114.08542910780952\n",
      "Ave Q Val Loss: 95.46764985373962\n",
      "<class 'quant_modelV2.QuantNet_opt'>\n",
      "Min Ave Val Loss: 1.5457066950576899\n",
      "Saved model\n",
      "\n",
      "==============================\n",
      "\n",
      "Epoch 9\n",
      "Ave Train Loss: 1.7790490450015446\n",
      "Ave Val Loss: 1.570876615797584\n",
      "Ave Q Train Loss: 114.61153025853379\n",
      "Ave Q Val Loss: 99.60223778227584\n",
      "Min Ave Val Loss: 1.5457066950576899\n",
      "\n",
      "==============================\n",
      "\n",
      "Epoch 10\n",
      "Ave Train Loss: 1.7504102055373165\n",
      "Ave Val Loss: 1.9541446561376679\n",
      "Ave Q Train Loss: 112.59549229589524\n",
      "Ave Q Val Loss: 122.83045166133228\n",
      "Min Ave Val Loss: 1.5457066950576899\n",
      "\n",
      "==============================\n",
      "\n",
      "Epoch 11\n",
      "Ave Train Loss: 1.7309395485043855\n",
      "Ave Val Loss: 1.7167274416096425\n",
      "Ave Q Train Loss: 111.18559039527871\n",
      "Ave Q Val Loss: 108.41432012083814\n",
      "Min Ave Val Loss: 1.5457066950576899\n",
      "\n",
      "==============================\n",
      "\n",
      "Epoch 12\n",
      "Ave Train Loss: 1.713014326637863\n",
      "Ave Val Loss: 1.7048190719599354\n",
      "Ave Q Train Loss: 110.22739426237578\n",
      "Ave Q Val Loss: 105.90243294490222\n",
      "Min Ave Val Loss: 1.5457066950576899\n",
      "\n",
      "==============================\n",
      "\n",
      "Epoch 13\n",
      "Ave Train Loss: 1.6874021408300128\n",
      "Ave Val Loss: 2.8352568932939635\n",
      "Ave Q Train Loss: 109.03271264495885\n",
      "Ave Q Val Loss: 187.31985875467154\n",
      "Min Ave Val Loss: 1.5457066950576899\n",
      "\n",
      "==============================\n",
      "\n",
      "Epoch 14\n",
      "Ave Train Loss: 1.6959381862541834\n",
      "Ave Val Loss: 2.2174779482108558\n",
      "Ave Q Train Loss: 108.97618706257848\n",
      "Ave Q Val Loss: 139.98821570170932\n",
      "Min Ave Val Loss: 1.5457066950576899\n",
      "\n",
      "==============================\n",
      "\n",
      "Epoch 15\n",
      "Ave Train Loss: 1.6944467416519886\n",
      "Ave Val Loss: 1.5451966259564394\n",
      "Ave Q Train Loss: 109.52907748458462\n",
      "Ave Q Val Loss: 102.24692502568814\n",
      "<class 'quant_modelV2.QuantNet_opt'>\n",
      "Min Ave Val Loss: 1.5451966259564394\n",
      "Saved model\n",
      "\n",
      "==============================\n",
      "\n",
      "Epoch 16\n",
      "Ave Train Loss: 1.6911053422053324\n",
      "Ave Val Loss: 1.4350893629309898\n",
      "Ave Q Train Loss: 108.92409220142555\n",
      "Ave Q Val Loss: 93.06020882343455\n",
      "<class 'quant_modelV2.QuantNet_opt'>\n",
      "Min Ave Val Loss: 1.4350893629309898\n",
      "Saved model\n",
      "\n",
      "==============================\n",
      "\n",
      "Epoch 17\n",
      "Ave Train Loss: 1.684309019339022\n",
      "Ave Val Loss: 1.488016175404281\n",
      "Ave Q Train Loss: 108.73601275448793\n",
      "Ave Q Val Loss: 92.90362074311105\n",
      "Min Ave Val Loss: 1.4350893629309898\n",
      "\n",
      "==============================\n",
      "\n",
      "Epoch 18\n",
      "Ave Train Loss: 1.6490285831369689\n",
      "Ave Val Loss: 2.0663611325577658\n",
      "Ave Q Train Loss: 106.7578623435555\n",
      "Ave Q Val Loss: 133.2574383259043\n",
      "Min Ave Val Loss: 1.4350893629309898\n",
      "\n",
      "==============================\n",
      "\n",
      "Epoch 19\n",
      "Ave Train Loss: 1.6577987737453186\n",
      "Ave Val Loss: 1.7416556422967242\n",
      "Ave Q Train Loss: 106.78393060191647\n",
      "Ave Q Val Loss: 109.92493308414106\n",
      "Min Ave Val Loss: 1.4350893629309898\n",
      "\n",
      "==============================\n",
      "\n",
      "Epoch 20\n",
      "Ave Train Loss: 1.6632609420943136\n",
      "Ave Val Loss: 1.7126659525465344\n",
      "Ave Q Train Loss: 106.96840053793525\n",
      "Ave Q Val Loss: 104.96397195488372\n",
      "Min Ave Val Loss: 1.4350893629309898\n",
      "\n",
      "==============================\n",
      "\n",
      "<class 'quant_modelV2.QuantNet_opt'>\n"
     ]
    },
    {
     "data": {
      "image/png": "[encoded data removed]",
      "text/plain": [
       "<Figure size 432x288 with 1 Axes>"
      ]
     },
     "metadata": {
      "needs_background": "light"
     },
     "output_type": "display_data"
    },
    {
     "name": "stdout",
     "output_type": "stream",
     "text": [
      "<class 'quant_modelV2.QuantNet_opt'>\n"
     ]
    }
   ],
   "source": [
    "#train (mimicing structure in train.py)\n",
    "metrics = Metrics()\n",
    "model = None\n",
    "try:\n",
    "    model = train(QuantNet_opt, metrics=metrics, models_folder_path=models_folder, quantized=True)\n",
    "except KeyboardInterrupt:\n",
    "    print(\"Interrupted\")\n",
    "finally:\n",
    "    metrics.plot_losses()\n",
    "print(type(model))"
   ]
  },
  {
   "cell_type": "code",
   "execution_count": 4,
   "metadata": {},
   "outputs": [
    {
     "name": "stdout",
     "output_type": "stream",
     "text": [
      "X_train shape: (229538, 14)\n",
      "X_val shape: (12752, 14)\n",
      "X_test shape: (12752, 14)\n",
      "Y_train shape: (229538, 1)\n",
      "Y_val shape: (12752, 1)\n",
      "Y_test shape: (12752, 1)\n",
      "Using saved split data\n",
      "Ave Test Loss: 1.7126659525465344\n",
      "Ave Q Test Loss: 104.96397195488375\n"
     ]
    }
   ],
   "source": [
    "#test inference\n",
    "import torch\n",
    "import utils\n",
    "from torch.utils.data import DataLoader\n",
    "from processing_for_train import FACILE_preproc as preproc\n",
    "from processing_for_train import FACILE_postproc as postproc\n",
    "from processing_for_train import FACILE_preproc_out as preproc_out\n",
    "\n",
    "batch_size=1\n",
    "train_set, val_set, test_set, n_features = utils.load_torch_datasets()\n",
    "gen_params = {\n",
    "                \"batch_size\": batch_size,\n",
    "                \"shuffle\": True,\n",
    "            }\n",
    "test_gen = DataLoader(val_set, **gen_params)#DataLoader(test_set, **gen_params)\n",
    "#ensure model in evaluation mode\n",
    "model.eval()\n",
    "loss_fn = torch.nn.MSELoss()\n",
    "\n",
    "total_test_loss = 0\n",
    "total_test_loss_quant = 0\n",
    "n_test_samples = 0\n",
    "\n",
    "for test_batch, labels_batch in test_gen:\n",
    "    n_test_samples += test_batch.shape[0]\n",
    "\n",
    "    labels_batch_q = labels_batch\n",
    "    labels_batch = preproc_out(labels_batch.float())\n",
    "    output_batch = preproc(test_batch.float())\n",
    "    output_batch = model(output_batch)\n",
    "    #output_batch = postproc(output_batch).float()\n",
    "    #output_batch = torch.trunc(output_batch)\n",
    "    output_batch_quant = torch.round(output_batch)\n",
    "    output_batch_quant = postproc(output_batch_quant)\n",
    "    q_loss = loss_fn(output_batch_quant.float(), labels_batch_q.float())\n",
    "    total_test_loss_quant += q_loss.item()\n",
    "    loss = loss_fn(output_batch.float(), labels_batch.float())\n",
    "    total_test_loss += loss.item()\n",
    "\n",
    "ave_test_loss = total_test_loss / n_test_samples\n",
    "ave_test_loss_q = total_test_loss_quant / n_test_samples\n",
    "\n",
    "print(f\"Ave Test Loss: {ave_test_loss}\")\n",
    "print(f\"Ave Q Test Loss: {ave_test_loss_q}\")"
   ]
  },
  {
   "cell_type": "code",
   "execution_count": 5,
   "metadata": {},
   "outputs": [],
   "source": [
    "#export to onnx finn format\n",
    "from brevitas.onnx import export_finn_onnx\n",
    "input_shape = [1,14]\n",
    "export_finn_onnx(model, input_shape, models_folder + \"/facileV3_6b_1.onnx\")#, batch_size=1)"
   ]
  },
  {
   "cell_type": "code",
   "execution_count": 6,
   "metadata": {},
   "outputs": [
    {
     "name": "stdout",
     "output_type": "stream",
     "text": [
      "imports\n"
     ]
    }
   ],
   "source": [
    "from utils import load_split_np_data\n",
    "import proc_for_infer as pfi\n",
    "from finn.core.onnx_exec import execute_onnx as exe_onnx\n",
    "from finn.core.modelwrapper import ModelWrapper\n",
    "from finn.transformation.infer_shapes import InferShapes\n",
    "from finn.transformation.fold_constants import FoldConstants\n",
    "from finn.transformation.general import GiveReadableTensorNames, GiveUniqueNodeNames, RemoveStaticGraphInputs\n",
    "from finn.transformation.infer_datatypes import InferDataTypes\n",
    "print('imports')"
   ]
  },
  {
   "cell_type": "code",
   "execution_count": 7,
   "metadata": {},
   "outputs": [
    {
     "name": "stdout",
     "output_type": "stream",
     "text": [
      "model loaded\n"
     ]
    }
   ],
   "source": [
    "model = ModelWrapper(\"quant_models/facileV3_6b_1.onnx\")\n",
    "print('model loaded')"
   ]
  },
  {
   "cell_type": "code",
   "execution_count": null,
   "metadata": {},
   "outputs": [],
   "source": [
    "model = model.transform(InferShapes())\n",
    "model = model.transform(FoldConstants())\n",
    "model = model.transform(GiveUniqueNodeNames())\n",
    "model = model.transform(GiveReadableTensorNames())\n",
    "model = model.transform(InferDataTypes())\n",
    "model = model.transform(RemoveStaticGraphInputs())\n",
    "print('transformed')"
   ]
  },
  {
   "cell_type": "code",
   "execution_count": 12,
   "metadata": {},
   "outputs": [
    {
     "name": "stdout",
     "output_type": "stream",
     "text": [
      "tensors acq\n",
      "X_train shape: (229538, 14)\n",
      "X_val shape: (12752, 14)\n",
      "X_test shape: (12752, 14)\n",
      "Y_train shape: (229538, 1)\n",
      "Y_val shape: (12752, 1)\n",
      "Y_test shape: (12752, 1)\n",
      "Using saved split data\n",
      "datasets loaded, starting inf\n"
     ]
    },
    {
     "ename": "Exception",
     "evalue": "Found unspecified tensor shapes, try infer_shapes",
     "output_type": "error",
     "traceback": [
      "\u001b[0;31m---------------------------------------------------------------------------\u001b[0m",
      "\u001b[0;31mException\u001b[0m                                 Traceback (most recent call last)",
      "\u001b[0;32m<ipython-input-12-5b137fb08808>\u001b[0m in \u001b[0;36m<module>\u001b[0;34m\u001b[0m\n\u001b[1;32m     23\u001b[0m     \u001b[0;31m#print(inp_dict[in_tensor].shape)\u001b[0m\u001b[0;34m\u001b[0m\u001b[0;34m\u001b[0m\u001b[0;34m\u001b[0m\u001b[0m\n\u001b[1;32m     24\u001b[0m     \u001b[0;31m#batch_out = accel.execute(proc_batch)\u001b[0m\u001b[0;34m\u001b[0m\u001b[0;34m\u001b[0m\u001b[0;34m\u001b[0m\u001b[0m\n\u001b[0;32m---> 25\u001b[0;31m     \u001b[0mout_dict\u001b[0m \u001b[0;34m=\u001b[0m \u001b[0mexe_onnx\u001b[0m\u001b[0;34m(\u001b[0m\u001b[0mmodel\u001b[0m\u001b[0;34m,\u001b[0m \u001b[0minp_dict\u001b[0m\u001b[0;34m)\u001b[0m\u001b[0;34m\u001b[0m\u001b[0;34m\u001b[0m\u001b[0m\n\u001b[0m\u001b[1;32m     26\u001b[0m     \u001b[0mbatch_out\u001b[0m \u001b[0;34m=\u001b[0m \u001b[0mout_dict\u001b[0m\u001b[0;34m[\u001b[0m\u001b[0mout_tensor\u001b[0m\u001b[0;34m]\u001b[0m\u001b[0;34m\u001b[0m\u001b[0;34m\u001b[0m\u001b[0m\n\u001b[1;32m     27\u001b[0m     \u001b[0mbatch_out\u001b[0m \u001b[0;34m=\u001b[0m \u001b[0mbatch_out\u001b[0m\u001b[0;34m.\u001b[0m\u001b[0mastype\u001b[0m\u001b[0;34m(\u001b[0m\u001b[0;34m\"int8\"\u001b[0m\u001b[0;34m)\u001b[0m\u001b[0;34m\u001b[0m\u001b[0;34m\u001b[0m\u001b[0m\n",
      "\u001b[0;32m/workspace/finn-base/src/finn/core/onnx_exec.py\u001b[0m in \u001b[0;36mexecute_onnx\u001b[0;34m(model, input_dict, return_full_exec_context, start_node, end_node)\u001b[0m\n\u001b[1;32m    148\u001b[0m \u001b[0;34m\u001b[0m\u001b[0m\n\u001b[1;32m    149\u001b[0m     \u001b[0;32mif\u001b[0m \u001b[0;32mnot\u001b[0m \u001b[0mmodel\u001b[0m\u001b[0;34m.\u001b[0m\u001b[0mcheck_all_tensor_shapes_specified\u001b[0m\u001b[0;34m(\u001b[0m\u001b[0;34m)\u001b[0m\u001b[0;34m:\u001b[0m\u001b[0;34m\u001b[0m\u001b[0;34m\u001b[0m\u001b[0m\n\u001b[0;32m--> 150\u001b[0;31m         \u001b[0;32mraise\u001b[0m \u001b[0mException\u001b[0m\u001b[0;34m(\u001b[0m\u001b[0;34m\"Found unspecified tensor shapes, try infer_shapes\"\u001b[0m\u001b[0;34m)\u001b[0m\u001b[0;34m\u001b[0m\u001b[0;34m\u001b[0m\u001b[0m\n\u001b[0m\u001b[1;32m    151\u001b[0m     \u001b[0mret\u001b[0m \u001b[0;34m=\u001b[0m \u001b[0mmodel\u001b[0m\u001b[0;34m.\u001b[0m\u001b[0manalysis\u001b[0m\u001b[0;34m(\u001b[0m\u001b[0mta\u001b[0m\u001b[0;34m.\u001b[0m\u001b[0mnodes_topologically_sorted\u001b[0m\u001b[0;34m)\u001b[0m\u001b[0;34m\u001b[0m\u001b[0;34m\u001b[0m\u001b[0m\n\u001b[1;32m    152\u001b[0m     assert (\n",
      "\u001b[0;31mException\u001b[0m: Found unspecified tensor shapes, try infer_shapes"
     ]
    }
   ],
   "source": [
    "in_tensor = model.graph.input[0].name\n",
    "out_tensor = model.graph.output[0].name\n",
    "print('tensors acq')\n",
    "\n",
    "datasets = load_split_np_data()\n",
    "print('datasets loaded, starting inf')\n",
    "\n",
    "batch_size=1\n",
    "inps = datasets[1]\n",
    "exp_out = datasets[4]\n",
    "valid_size = len(exp_out)\n",
    "num_batches = int(valid_size/batch_size)\n",
    "running_error_square = 0\n",
    "for i in range(0, num_batches):\n",
    "    #print(i)\n",
    "    batch = inps[(i*batch_size):((i+1)*batch_size)]\n",
    "    #print(batch.shape)\n",
    "    batch_exp_out = exp_out[(i*batch_size):((i+1)*batch_size)]\n",
    "    proc_batch = pfi.preproc(batch)\n",
    "    #print(proc_batch.shape)\n",
    "    proc_batch = proc_batch.astype(\"float32\")\n",
    "    inp_dict = {in_tensor : proc_batch}\n",
    "    #print(inp_dict[in_tensor].shape)\n",
    "    #batch_out = accel.execute(proc_batch)\n",
    "    out_dict = exe_onnx(model, inp_dict)\n",
    "    batch_out = out_dict[out_tensor]\n",
    "    batch_out = batch_out.astype(\"int8\")\n",
    "    #print(batch_out)\n",
    "    batch_proc_out = pfi.postproc(batch_out)\n",
    "    batch_errs = batch_proc_out-batch_exp_out\n",
    "    batch_sq_errs = batch_errs*batch_errs\n",
    "    running_error_square += sum(batch_sq_errs)\n",
    "print(\"MSE: \" + str(running_error_square / (num_batches * batch_size)))"
   ]
  },
  {
   "cell_type": "code",
   "execution_count": null,
   "metadata": {},
   "outputs": [],
   "source": []
  }
 ],
 "metadata": {
  "kernelspec": {
   "display_name": "Python 3",
   "language": "python",
   "name": "python3"
  },
  "language_info": {
   "codemirror_mode": {
    "name": "ipython",
    "version": 3
   },
   "file_extension": ".py",
   "mimetype": "text/x-python",
   "name": "python",
   "nbconvert_exporter": "python",
   "pygments_lexer": "ipython3",
   "version": "3.6.8"
  }
 },
 "nbformat": 4,
 "nbformat_minor": 4
}
