{
 "cells": [
  {
   "cell_type": "markdown",
   "metadata": {},
   "source": [
    "# Quantized Deployment and Throughput/Accuracy Testing\n",
    "This notebook deploys the quantized model on an FPGA and performs throughput and accuracy testing.\n",
    "If the desired deployment is on a PYNQ board, this notebook should be run from the PYNQ host."
   ]
  },
  {
   "cell_type": "code",
   "execution_count": 1,
   "metadata": {},
   "outputs": [
    {
     "data": {
      "application/javascript": [
       "\n",
       "try {\n",
       "require(['notebook/js/codecell'], function(codecell) {\n",
       "  codecell.CodeCell.options_default.highlight_modes[\n",
       "      'magic_text/x-csrc'] = {'reg':[/^%%microblaze/]};\n",
       "  Jupyter.notebook.events.one('kernel_ready.Kernel', function(){\n",
       "      Jupyter.notebook.get_cells().map(function(cell){\n",
       "          if (cell.cell_type == 'code'){ cell.auto_highlight(); } }) ;\n",
       "  });\n",
       "});\n",
       "} catch (e) {};\n"
      ]
     },
     "metadata": {},
     "output_type": "display_data"
    },
    {
     "data": {
      "application/javascript": [
       "\n",
       "try {\n",
       "require(['notebook/js/codecell'], function(codecell) {\n",
       "  codecell.CodeCell.options_default.highlight_modes[\n",
       "      'magic_text/x-csrc'] = {'reg':[/^%%pybind11/]};\n",
       "  Jupyter.notebook.events.one('kernel_ready.Kernel', function(){\n",
       "      Jupyter.notebook.get_cells().map(function(cell){\n",
       "          if (cell.cell_type == 'code'){ cell.auto_highlight(); } }) ;\n",
       "  });\n",
       "});\n",
       "} catch (e) {};\n"
      ]
     },
     "metadata": {},
     "output_type": "display_data"
    }
   ],
   "source": [
    "from output_final.driver.finn.core.datatype import DataType\n",
    "from driver_base import FINNExampleOverlay\n",
    "import numpy as np\n",
    "import proc_for_infer as pfi\n",
    "from utils_pynq import load_split_np_data"
   ]
  },
  {
   "cell_type": "code",
   "execution_count": 43,
   "metadata": {},
   "outputs": [],
   "source": [
    "#set up model info\n",
    "# dictionary describing the I/O of the FINN-generated accelerator\n",
    "io_shape_dict = {\n",
    "    # FINN DataType for input and output tensors\n",
    "    \"idt\" : DataType.UINT6,\n",
    "    \"odt\" : DataType.INT6,\n",
    "    # shapes for input and output tensors (NHWC layout)\n",
    "    \"ishape_normal\" : (1, 14),\n",
    "    \"oshape_normal\" : (1, 1),\n",
    "    # folded / packed shapes below depend on idt/odt and input/output\n",
    "    # PE/SIMD parallelization settings -- these are calculated by the\n",
    "    # FINN compiler.\n",
    "    \"ishape_folded\" : (1, 14, 1),\n",
    "    \"oshape_folded\" : (1, 1, 1),\n",
    "    \"ishape_packed\" : (1, 14, 1),\n",
    "    \"oshape_packed\" : (1, 1, 1)\n",
    "}\n",
    "platform = \"zynq-iodma\"\n",
    "bitfile = \"output_final/deploy/bitfile/finn-accel.bit\"\n",
    "runtime_weights = \"output_final/deploy/driver/runtime_weights/\"\n",
    "batch_size = 50"
   ]
  },
  {
   "cell_type": "code",
   "execution_count": 44,
   "metadata": {},
   "outputs": [],
   "source": [
    "#create accelerator\n",
    "accel = FINNExampleOverlay(bitfile_name=bitfile, platform=platform, \n",
    "                          io_shape_dict=io_shape_dict, batch_size=batch_size, fclk_mhz=50,\n",
    "                          runtime_weight_dir=runtime_weights)"
   ]
  },
  {
   "cell_type": "markdown",
   "metadata": {},
   "source": [
    "### Throughput Test\n",
    "Run a basic throughput test and print the results"
   ]
  },
  {
   "cell_type": "code",
   "execution_count": 45,
   "metadata": {},
   "outputs": [
    {
     "name": "stdout",
     "output_type": "stream",
     "text": [
      "{'runtime[ms]': 0.6701946258544922, 'throughput[images/s]': 74605.19388118107, 'DRAM_in_bandwidth[Mb/s]': 1.0444727143365351, 'DRAM_out_bandwidth[Mb/s]': 0.074605193881181073, 'fclk[mhz]': 49.9995, 'batch_size': 50, 'fold_input[ms]': 5.221366882324219e-05, 'pack_input[ms]': 0.6663839817047119, 'copy_input_data_to_device[ms]': 0.0001659393310546875, 'copy_output_data_from_device[ms]': 7.62939453125e-05, 'unpack_output[ms]': 0.011673688888549805, 'unfold_output[ms]': 3.457069396972656e-05}\n"
     ]
    }
   ],
   "source": [
    "res = accel.throughput_test()\n",
    "print(res)"
   ]
  },
  {
   "cell_type": "markdown",
   "metadata": {},
   "source": [
    "### Accuracy Test\n",
    "Perform inference on testing dataset and compare to actual values."
   ]
  },
  {
   "cell_type": "code",
   "execution_count": 46,
   "metadata": {},
   "outputs": [
    {
     "name": "stdout",
     "output_type": "stream",
     "text": [
      "(50, 14)\n"
     ]
    }
   ],
   "source": [
    "#accel.batch_size(229538)\n",
    "print(accel.ishape_normal)"
   ]
  },
  {
   "cell_type": "code",
   "execution_count": 36,
   "metadata": {},
   "outputs": [
    {
     "name": "stdout",
     "output_type": "stream",
     "text": [
      "X_train shape: (229538, 14)\n",
      "X_val shape: (12752, 14)\n",
      "X_test shape: (12752, 14)\n",
      "Y_train shape: (229538, 1)\n",
      "Y_val shape: (12752, 1)\n",
      "Y_test shape: (12752, 1)\n",
      "Using saved split data\n",
      "[array([[  5.80000000e+01,   2.00000000e+00,   3.69370341e+00, ...,\n",
      "          1.64524792e+03,   1.56832642e+03,   9.73000366e+02],\n",
      "       [  7.30000000e+01,   3.00000000e+00,   1.63631487e+00, ...,\n",
      "          1.09457141e+03,   8.94265137e+02,   7.37251587e+02],\n",
      "       [  7.40000000e+01,   2.00000000e+00,   1.15914593e+01, ...,\n",
      "          4.53916113e+03,   1.46776880e+03,   7.66278015e+02],\n",
      "       ..., \n",
      "       [  6.40000000e+01,   2.00000000e+00,   9.21862221e+00, ...,\n",
      "          1.73535828e+03,   1.19223145e+03,   6.71937500e+02],\n",
      "       [  7.10000000e+01,   2.00000000e+00,   7.65338302e-01, ...,\n",
      "          8.91962585e+02,   1.62368567e+03,   8.88209412e+02],\n",
      "       [  9.10000000e+01,   2.00000000e+00,   8.17640972e+00, ...,\n",
      "          2.95410669e+03,   1.74744006e+03,   8.36169189e+02]]), array([[  5.70000000e+01,   3.00000000e+00,   8.53122025e+01, ...,\n",
      "          1.48053857e+04,   5.72804199e+03,   2.93501343e+03],\n",
      "       [  5.90000000e+01,   2.00000000e+00,   3.80698586e+00, ...,\n",
      "          1.84104553e+03,   6.45426270e+02,   4.10242126e+02],\n",
      "       [  5.00000000e+01,   1.00000000e+00,   1.98644447e+00, ...,\n",
      "          5.72788330e+02,   1.68374146e+02,   4.59928558e+02],\n",
      "       ..., \n",
      "       [  7.00000000e+01,   2.00000000e+00,   4.15027475e+00, ...,\n",
      "          2.73347778e+03,   1.46399487e+03,   8.88694702e+02],\n",
      "       [  6.50000000e+01,   2.00000000e+00,   3.74163771e+00, ...,\n",
      "          9.86499390e+02,   7.15343872e+02,   7.15578979e+02],\n",
      "       [  7.00000000e+01,   2.00000000e+00,   1.72546160e+00, ...,\n",
      "          8.27769409e+02,   8.63826355e+02,   4.04165894e+02]]), array([[  6.70000000e+01,   2.00000000e+00,   9.96370316e-01, ...,\n",
      "          2.93963403e+03,   3.49317603e+03,   1.58013953e+03],\n",
      "       [  8.10000000e+01,   2.00000000e+00,   8.15754623e+01, ...,\n",
      "          1.09117725e+04,   4.17091992e+03,   2.27263354e+03],\n",
      "       [  7.90000000e+01,   2.00000000e+00,   6.38215017e+00, ...,\n",
      "          1.52886975e+03,   2.08534180e+03,   9.25224365e+02],\n",
      "       ..., \n",
      "       [  8.70000000e+01,   2.00000000e+00,   2.91300845e+00, ...,\n",
      "          9.97385803e+02,   3.01909149e+02,   5.66051086e+02],\n",
      "       [  6.60000000e+01,   4.00000000e+00,   1.01761393e-01, ...,\n",
      "          8.49532715e+02,   8.93666199e+02,   4.16876495e+02],\n",
      "       [  8.70000000e+01,   3.00000000e+00,   6.63563788e-01, ...,\n",
      "          6.09621887e+02,   5.71229736e+02,   3.72866791e+02]]), array([[ 28.00914383],\n",
      "       [  0.        ],\n",
      "       [  0.        ],\n",
      "       ..., \n",
      "       [ 17.48455429],\n",
      "       [  0.        ],\n",
      "       [ 48.83260345]]), array([[ 132.65643311],\n",
      "       [   0.        ],\n",
      "       [   0.        ],\n",
      "       ..., \n",
      "       [   0.        ],\n",
      "       [   0.        ],\n",
      "       [   0.        ]]), array([[  0.        ],\n",
      "       [ 89.24584198],\n",
      "       [  0.        ],\n",
      "       ..., \n",
      "       [  0.        ],\n",
      "       [  0.        ],\n",
      "       [  0.        ]])]\n"
     ]
    }
   ],
   "source": [
    "datasets = load_split_np_data()\n",
    "print(datasets)"
   ]
  },
  {
   "cell_type": "code",
   "execution_count": 19,
   "metadata": {
    "scrolled": true
   },
   "outputs": [
    {
     "name": "stdout",
     "output_type": "stream",
     "text": [
      "MSE: [ 108.26291761]\n"
     ]
    }
   ],
   "source": [
    "inps = datasets[1]\n",
    "exp_out = datasets[4]\n",
    "valid_size = len(exp_out)\n",
    "num_batches = int(valid_size/batch_size)\n",
    "running_error_square = 0\n",
    "exp_act_out = [[],[]]\n",
    "for i in range(0, num_batches):\n",
    "    batch = inps[(i*batch_size):((i+1)*batch_size)]\n",
    "    batch_exp_out = exp_out[(i*batch_size):((i+1)*batch_size)]\n",
    "    #print(batch.shape)\n",
    "    proc_batch = pfi.preproc(batch)\n",
    "    #proc_batch = np.flip(proc_batch, axis=1)\n",
    "    batch_out = accel.execute(proc_batch)\n",
    "    batch_out = batch_out * .9649           #last mul node not absorbed into dataflow partition\n",
    "    batch_proc_out = pfi.postproc(batch_out)\n",
    "    batch_errs = batch_proc_out-batch_exp_out\n",
    "    #print(\"exp: \" + str(batch_exp_out) + \" act: \" + str(batch_proc_out) + \" preproc: \" + str(batch_out))\n",
    "    batch_sq_errs = batch_errs*batch_errs\n",
    "    running_error_square += sum(batch_sq_errs)\n",
    "    exp_act_out[0].append(batch_exp_out[0][0])\n",
    "    exp_act_out[1].append(batch_proc_out[0][0])\n",
    "    #batch = valid[(i*batch_size):((i+1)*batch_size)]\n",
    "    #inp = batch[0]\n",
    "    #inp = FACILE_preproc(inp.float())\n",
    "    #inp = inp.numpy()\n",
    "    #inp_dict = {in_tensor : inp}\n",
    "    #exp_out = batch[1].numpy()\n",
    "    #out_dict = exe_onnx(model, inp_dict)\n",
    "    #out = out_dict[out_tensor]\n",
    "    #out = tensor(out,dtype=float32)\n",
    "    #out = FACILE_postproc(out)\n",
    "    #print(out)\n",
    "print(\"MSE: \" + str(running_error_square / (num_batches * batch_size)))"
   ]
  },
  {
   "cell_type": "code",
   "execution_count": 47,
   "metadata": {},
   "outputs": [
    {
     "name": "stdout",
     "output_type": "stream",
     "text": [
      "73.72876009743612\n"
     ]
    }
   ],
   "source": [
    "#trying to max throughput\n",
    "import time\n",
    "proc_inps = pfi.preproc(inps)\n",
    "unproc_infs = None\n",
    "start_time = time.time()\n",
    "for i in range(0, num_batches):\n",
    "    batch = proc_inps[(i*batch_size):((i+1)*batch_size)]\n",
    "    batch_out = accel.execute(batch)\n",
    "    if unproc_infs is None:\n",
    "        unproc_infs = batch_out\n",
    "    else:\n",
    "        np.concatenate([unproc_infs,batch_out])\n",
    "end_time = time.time()\n",
    "throughput = (num_batches * batch_size)/(end_time-start_time)\n",
    "print(throughput)"
   ]
  },
  {
   "cell_type": "code",
   "execution_count": 13,
   "metadata": {},
   "outputs": [],
   "source": [
    "import pickle\n",
    "save_loc = 'exp_act_comparisons/fpga_deploy.pkl'\n",
    "with open(save_loc, 'wb') as file:\n",
    "    pickle.dump(exp_act_out, file)"
   ]
  },
  {
   "cell_type": "code",
   "execution_count": null,
   "metadata": {},
   "outputs": [],
   "source": []
  }
 ],
 "metadata": {
  "kernelspec": {
   "display_name": "Python 3",
   "language": "python",
   "name": "python3"
  },
  "language_info": {
   "codemirror_mode": {
    "name": "ipython",
    "version": 3
   },
   "file_extension": ".py",
   "mimetype": "text/x-python",
   "name": "python",
   "nbconvert_exporter": "python",
   "pygments_lexer": "ipython3",
   "version": "3.6.5"
  }
 },
 "nbformat": 4,
 "nbformat_minor": 4
}
