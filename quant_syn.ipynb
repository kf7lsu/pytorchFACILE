{
 "cells": [
  {
   "cell_type": "markdown",
   "metadata": {},
   "source": [
    "# Quantized Model Synthesis\n",
    "This notebook will follow up from the end of the cleanup notebook to convert the model to HLS layers all the way up to synthesis of the model using Vivado"
   ]
  },
  {
   "cell_type": "markdown",
   "metadata": {},
   "source": [
    "### Conversion to HLS Layers"
   ]
  },
  {
   "cell_type": "code",
   "execution_count": 1,
   "metadata": {},
   "outputs": [],
   "source": [
    "import onnx\n",
    "from finn.util.test import get_test_model_trained\n",
    "import brevitas.onnx as bo\n",
    "from finn.core.modelwrapper import ModelWrapper\n",
    "from finn.transformation.infer_shapes import InferShapes\n",
    "from finn.transformation.fold_constants import FoldConstants\n",
    "from finn.transformation.general import GiveReadableTensorNames, GiveUniqueNodeNames, RemoveStaticGraphInputs\n",
    "from finn.transformation.infer_datatypes import InferDataTypes\n",
    "from finn.util.visualization import showInNetron\n",
    "from finn.transformation.infer_data_layouts import InferDataLayouts"
   ]
  },
  {
   "cell_type": "code",
   "execution_count": 3,
   "metadata": {},
   "outputs": [
    {
     "name": "stdout",
     "output_type": "stream",
     "text": [
      "[('DataType', <enum 'DataType'>), ('InferAddStreamsLayer', <class 'finn.transformation.fpgadataflow.convert_to_hls_layers.InferAddStreamsLayer'>), ('InferBinaryStreamingFCLayer', <class 'finn.transformation.fpgadataflow.convert_to_hls_layers.InferBinaryStreamingFCLayer'>), ('InferChannelwiseLinearLayer', <class 'finn.transformation.fpgadataflow.convert_to_hls_layers.InferChannelwiseLinearLayer'>), ('InferConvInpGen', <class 'finn.transformation.fpgadataflow.convert_to_hls_layers.InferConvInpGen'>), ('InferDataTypes', <class 'finn.transformation.infer_datatypes.InferDataTypes'>), ('InferDuplicateStreamsLayer', <class 'finn.transformation.fpgadataflow.convert_to_hls_layers.InferDuplicateStreamsLayer'>), ('InferGlobalAccPoolLayer', <class 'finn.transformation.fpgadataflow.convert_to_hls_layers.InferGlobalAccPoolLayer'>), ('InferLabelSelectLayer', <class 'finn.transformation.fpgadataflow.convert_to_hls_layers.InferLabelSelectLayer'>), ('InferPool_Batch', <class 'finn.transformation.fpgadataflow.convert_to_hls_layers.InferPool_Batch'>), ('InferQuantizedStreamingFCLayer', <class 'finn.transformation.fpgadataflow.convert_to_hls_layers.InferQuantizedStreamingFCLayer'>), ('InferShapes', <class 'finn.transformation.infer_shapes.InferShapes'>), ('InferStreamingMaxPool', <class 'finn.transformation.fpgadataflow.convert_to_hls_layers.InferStreamingMaxPool'>), ('InferThresholdingLayer', <class 'finn.transformation.fpgadataflow.convert_to_hls_layers.InferThresholdingLayer'>), ('InferVVAU', <class 'finn.transformation.fpgadataflow.convert_to_hls_layers.InferVVAU'>), ('MinimizeAccumulatorWidth', <class 'finn.transformation.fpgadataflow.minimize_accumulator_width.MinimizeAccumulatorWidth'>), ('SortGraph', <class 'finn.transformation.general.SortGraph'>), ('TensorProto', <class 'onnx.onnx_ONNX_REL_1_7_ml_pb2.TensorProto'>), ('Transformation', <class 'finn.transformation.base.Transformation'>)]\n"
     ]
    }
   ],
   "source": [
    "from inspect import getmembers, isclass\n",
    "\n",
    "import finn.transformation.fpgadataflow.convert_to_hls_layers as to_hls\n",
    "print(getmembers(to_hls, isclass))"
   ]
  },
  {
   "cell_type": "code",
   "execution_count": 5,
   "metadata": {},
   "outputs": [
    {
     "name": "stdout",
     "output_type": "stream",
     "text": [
      "\n",
      "Stopping http://0.0.0.0:8081\n",
      "Serving 'quant_models/facile_hls_layers.onnx' at http://0.0.0.0:8081\n"
     ]
    },
    {
     "data": {
      "text/html": [
       "\n",
       "        <iframe\n",
       "            width=\"100%\"\n",
       "            height=\"400\"\n",
       "            src=\"http://0.0.0.0:8081/\"\n",
       "            frameborder=\"0\"\n",
       "            allowfullscreen\n",
       "        ></iframe>\n",
       "        "
      ],
      "text/plain": [
       "<IPython.lib.display.IFrame at 0x7efb78a52be0>"
      ]
     },
     "execution_count": 5,
     "metadata": {},
     "output_type": "execute_result"
    }
   ],
   "source": [
    "import finn.transformation.fpgadataflow.convert_to_hls_layers as to_hls\n",
    "model = ModelWrapper(\"quant_models/facile_streamlined.onnx\")\n",
    "mem_mode = \"decoupled\"\n",
    "\n",
    "#model = model.transform(to_hls.InferBinaryStreamingFCLayer(mem_mode))\n",
    "model = model.transform(to_hls.InferThresholdingLayer())                 #TODO: For some reason, these transforms\n",
    "model = model.transform(to_hls.InferQuantizedStreamingFCLayer(mem_mode)) #aren't applying, maybe same reason as\n",
    "#model = model.transform(to_hls.InferThresholdingLayer())                #MoveScalarAddPastMatMul?\n",
    "#model = model.transform(InferDataLayouts())\n",
    "\n",
    "model.save(\"quant_models/facile_hls_layers.onnx\")\n",
    "showInNetron(\"quant_models/facile_hls_layers.onnx\")"
   ]
  },
  {
   "cell_type": "markdown",
   "metadata": {},
   "source": [
    "### Dataflow Partitioning"
   ]
  },
  {
   "cell_type": "code",
   "execution_count": 5,
   "metadata": {},
   "outputs": [
    {
     "name": "stdout",
     "output_type": "stream",
     "text": [
      "\n",
      "Stopping http://0.0.0.0:8081\n",
      "Serving 'quant_models/facile_dataflow_parent.onnx' at http://0.0.0.0:8081\n"
     ]
    },
    {
     "data": {
      "text/html": [
       "\n",
       "        <iframe\n",
       "            width=\"100%\"\n",
       "            height=\"400\"\n",
       "            src=\"http://0.0.0.0:8081/\"\n",
       "            frameborder=\"0\"\n",
       "            allowfullscreen\n",
       "        ></iframe>\n",
       "        "
      ],
      "text/plain": [
       "<IPython.lib.display.IFrame at 0x7f10fc36ab00>"
      ]
     },
     "execution_count": 5,
     "metadata": {},
     "output_type": "execute_result"
    }
   ],
   "source": [
    "from finn.transformation.fpgadataflow.create_dataflow_partition import CreateDataflowPartition\n",
    "\n",
    "model = ModelWrapper(\"quant_models/facile_hls_layers.onnx\")\n",
    "parent_model = model.transform(CreateDataflowPartition())\n",
    "parent_model.save(\"quant_models/facile_dataflow_parent.onnx\")\n",
    "showInNetron(\"quant_models/facile_dataflow_parent.onnx\")"
   ]
  },
  {
   "cell_type": "code",
   "execution_count": 7,
   "metadata": {},
   "outputs": [
    {
     "name": "stdout",
     "output_type": "stream",
     "text": [
      "[]\n"
     ]
    }
   ],
   "source": [
    "sdp_node = parent_model.get_nodes_by_op_type(\"StreamingDataflowPartition\")\n",
    "#sdp_node = getCustomOp(sdp_node)\n",
    "print(sdp_node)"
   ]
  },
  {
   "cell_type": "code",
   "execution_count": null,
   "metadata": {},
   "outputs": [],
   "source": []
  }
 ],
 "metadata": {
  "kernelspec": {
   "display_name": "Python 3",
   "language": "python",
   "name": "python3"
  },
  "language_info": {
   "codemirror_mode": {
    "name": "ipython",
    "version": 3
   },
   "file_extension": ".py",
   "mimetype": "text/x-python",
   "name": "python",
   "nbconvert_exporter": "python",
   "pygments_lexer": "ipython3",
   "version": "3.6.8"
  }
 },
 "nbformat": 4,
 "nbformat_minor": 4
}
