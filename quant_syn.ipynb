{
 "cells": [
  {
   "cell_type": "markdown",
   "metadata": {},
   "source": [
    "# Quantized Model Synthesis\n",
    "This notebook will follow up from the end of the cleanup notebook to convert the model to a synthesized model using the build_dataflow tool"
   ]
  },
  {
   "cell_type": "markdown",
   "metadata": {},
   "source": [
    "### Build Estimation\n",
    "Estimate possible model deployment parameters without launching synthesis"
   ]
  },
  {
   "cell_type": "code",
   "execution_count": 1,
   "metadata": {},
   "outputs": [],
   "source": [
    "#imports\n",
    "import finn.builder.build_dataflow as build\n",
    "import finn.builder.build_dataflow_config as build_cfg"
   ]
  },
  {
   "cell_type": "code",
   "execution_count": 3,
   "metadata": {},
   "outputs": [],
   "source": [
    "#parameters\n",
    "target_fps = 100       #target inference in batches/sec\n",
    "clk_per_ns = 200.0  #target clock period in ns\n",
    "fpga_part = \"xczu3eg-sbva484-1-e\" #fpga generating bitfile for\n",
    "model_file = \"quant_models/facileV3_4b_1_tidy.onnx\"\n",
    "board=\"Ultra96\""
   ]
  },
  {
   "cell_type": "code",
   "execution_count": 8,
   "metadata": {},
   "outputs": [
    {
     "name": "stdout",
     "output_type": "stream",
     "text": [
      "Building dataflow accelerator from quant_models/facileV3_4b_1_tidy.onnx\n",
      "Intermediate outputs will be generated in /tmp/finn_dev_mtrahms\n",
      "Final outputs will be generated in output_estimates_only\n",
      "Build log is at output_estimates_only/build_dataflow.log\n",
      "Running step: step_tidy_up [1/7]\n",
      "Running step: step_streamline [2/7]\n",
      "Running step: step_convert_to_hls [3/7]\n",
      "Running step: step_create_dataflow_partition [4/7]\n",
      "Running step: step_target_fps_parallelization [5/7]\n",
      "Running step: step_apply_folding_config [6/7]\n",
      "Running step: step_generate_estimate_reports [7/7]\n",
      "Completed successfully\n"
     ]
    },
    {
     "data": {
      "text/plain": [
       "0"
      ]
     },
     "execution_count": 8,
     "metadata": {},
     "output_type": "execute_result"
    }
   ],
   "source": [
    "estimates_output_dir = \"output_estimates_only\"\n",
    "\n",
    "cfg = build.DataflowBuildConfig(\n",
    "    output_dir          = estimates_output_dir,\n",
    "    target_fps          = target_fps,\n",
    "    synth_clk_period_ns = clk_per_ns,\n",
    "    fpga_part           = fpga_part,   #ultra96 part\n",
    "    steps               = build_cfg.estimate_only_dataflow_steps,\n",
    "    generate_outputs=[\n",
    "        build_cfg.DataflowOutputType.ESTIMATE_REPORTS,\n",
    "    ]\n",
    ")\n",
    "\n",
    "build.build_dataflow_cfg(model_file, cfg)"
   ]
  },
  {
   "cell_type": "code",
   "execution_count": 9,
   "metadata": {},
   "outputs": [
    {
     "name": "stdout",
     "output_type": "stream",
     "text": [
      "intermediate_models  report  time_per_step.json\r\n"
     ]
    }
   ],
   "source": [
    "! ls {estimates_output_dir}"
   ]
  },
  {
   "cell_type": "code",
   "execution_count": 10,
   "metadata": {},
   "outputs": [
    {
     "name": "stdout",
     "output_type": "stream",
     "text": [
      "estimate_layer_config_alternatives.json  estimate_network_performance.json\r\n",
      "estimate_layer_cycles.json\t\t op_and_param_counts.json\r\n",
      "estimate_layer_resources.json\r\n"
     ]
    }
   ],
   "source": [
    "! ls {estimates_output_dir}/report"
   ]
  },
  {
   "cell_type": "code",
   "execution_count": 11,
   "metadata": {},
   "outputs": [
    {
     "name": "stdout",
     "output_type": "stream",
     "text": [
      "{\r\n",
      "  \"critical_path_cycles\": 812,\r\n",
      "  \"max_cycles\": 434,\r\n",
      "  \"max_cycles_node_name\": \"StreamingFCLayer_Batch_0\",\r\n",
      "  \"estimated_throughput_fps\": 11520.737327188941,\r\n",
      "  \"estimated_latency_ns\": 162400.0\r\n",
      "}"
     ]
    }
   ],
   "source": [
    "! cat {estimates_output_dir}/report/estimate_network_performance.json"
   ]
  },
  {
   "cell_type": "code",
   "execution_count": 12,
   "metadata": {},
   "outputs": [],
   "source": [
    "import json\n",
    "def read_json_dict(filename):\n",
    "    with open(filename, \"r\") as f:\n",
    "        ret = json.load(f)\n",
    "    return ret"
   ]
  },
  {
   "cell_type": "code",
   "execution_count": 13,
   "metadata": {},
   "outputs": [
    {
     "data": {
      "text/plain": [
       "{'StreamingFCLayer_Batch_0': 434,\n",
       " 'StreamingFCLayer_Batch_1': 341,\n",
       " 'StreamingFCLayer_Batch_2': 33,\n",
       " 'StreamingFCLayer_Batch_3': 3,\n",
       " 'Thresholding_Batch_0': 1}"
      ]
     },
     "execution_count": 13,
     "metadata": {},
     "output_type": "execute_result"
    }
   ],
   "source": [
    "read_json_dict(estimates_output_dir + \"/report/estimate_layer_cycles.json\")"
   ]
  },
  {
   "cell_type": "code",
   "execution_count": 14,
   "metadata": {},
   "outputs": [
    {
     "data": {
      "text/plain": [
       "{'StreamingFCLayer_Batch_0': {'BRAM_18K': 1,\n",
       "  'BRAM_efficiency': 0.14127604166666666,\n",
       "  'LUT': 2588,\n",
       "  'URAM': 0,\n",
       "  'URAM_efficiency': 1,\n",
       "  'DSP': 0},\n",
       " 'StreamingFCLayer_Batch_1': {'BRAM_18K': 1,\n",
       "  'BRAM_efficiency': 0.11100260416666667,\n",
       "  'LUT': 2727,\n",
       "  'URAM': 0,\n",
       "  'URAM_efficiency': 1,\n",
       "  'DSP': 0},\n",
       " 'StreamingFCLayer_Batch_2': {'BRAM_18K': 1,\n",
       "  'BRAM_efficiency': 0.0107421875,\n",
       "  'LUT': 2588,\n",
       "  'URAM': 0,\n",
       "  'URAM_efficiency': 1,\n",
       "  'DSP': 0},\n",
       " 'StreamingFCLayer_Batch_3': {'BRAM_18K': 1,\n",
       "  'BRAM_efficiency': 0.0009765625,\n",
       "  'LUT': 2308,\n",
       "  'URAM': 0,\n",
       "  'URAM_efficiency': 1,\n",
       "  'DSP': 0},\n",
       " 'Thresholding_Batch_0': {'BRAM_18K': 0,\n",
       "  'BRAM_efficiency': 1,\n",
       "  'LUT': 6,\n",
       "  'URAM': 0,\n",
       "  'URAM_efficiency': 1,\n",
       "  'DSP': 0},\n",
       " 'total': {'BRAM_18K': 4.0, 'LUT': 10217.0, 'URAM': 0.0, 'DSP': 0.0}}"
      ]
     },
     "execution_count": 14,
     "metadata": {},
     "output_type": "execute_result"
    }
   ],
   "source": [
    "read_json_dict(estimates_output_dir + \"/report/estimate_layer_resources.json\")"
   ]
  },
  {
   "cell_type": "markdown",
   "metadata": {},
   "source": [
    "### Build\n",
    "Launch a synthesis build in a similar way to the cells above.\n",
    "This will launch Vivado and take a while."
   ]
  },
  {
   "cell_type": "code",
   "execution_count": 15,
   "metadata": {},
   "outputs": [
    {
     "name": "stdout",
     "output_type": "stream",
     "text": [
      "Building dataflow accelerator from quant_models/facileV3_4b_1_tidy.onnx\n",
      "Intermediate outputs will be generated in /tmp/finn_dev_mtrahms\n",
      "Final outputs will be generated in output_ipstitch_ooc_rtlsim\n",
      "Build log is at output_ipstitch_ooc_rtlsim/build_dataflow.log\n",
      "Running step: step_tidy_up [1/15]\n",
      "Running step: step_streamline [2/15]\n",
      "Running step: step_convert_to_hls [3/15]\n",
      "Running step: step_create_dataflow_partition [4/15]\n",
      "Running step: step_target_fps_parallelization [5/15]\n",
      "Running step: step_apply_folding_config [6/15]\n",
      "Running step: step_generate_estimate_reports [7/15]\n",
      "Running step: step_hls_ipgen [8/15]\n",
      "Running step: step_set_fifo_depths [9/15]\n",
      "Running step: step_create_stitched_ip [10/15]\n",
      "Running step: step_measure_rtlsim_performance [11/15]\n",
      "Running step: step_make_pynq_driver [12/15]\n",
      "Running step: step_out_of_context_synthesis [13/15]\n",
      "Running step: step_synthesize_bitfile [14/15]\n",
      "Running step: step_deployment_package [15/15]\n",
      "Completed successfully\n"
     ]
    },
    {
     "data": {
      "text/plain": [
       "0"
      ]
     },
     "execution_count": 15,
     "metadata": {},
     "output_type": "execute_result"
    }
   ],
   "source": [
    "rtlsim_output_dir = \"output_ipstitch_ooc_rtlsim\"\n",
    "\n",
    "cfg = build.DataflowBuildConfig(\n",
    "    output_dir          = rtlsim_output_dir,\n",
    "    target_fps          = target_fps,\n",
    "    synth_clk_period_ns = clk_per_ns,\n",
    "    fpga_part           = fpga_part,\n",
    "    generate_outputs=[\n",
    "        build_cfg.DataflowOutputType.STITCHED_IP,\n",
    "        build_cfg.DataflowOutputType.RTLSIM_PERFORMANCE,\n",
    "        build_cfg.DataflowOutputType.OOC_SYNTH,\n",
    "    ]\n",
    ")\n",
    "\n",
    "build.build_dataflow_cfg(model_file, cfg)"
   ]
  },
  {
   "cell_type": "code",
   "execution_count": 16,
   "metadata": {},
   "outputs": [
    {
     "name": "stdout",
     "output_type": "stream",
     "text": [
      "all_verilog_srcs.txt\t\t       ip\r\n",
      "finn_vivado_stitch_proj.cache\t       make_project.sh\r\n",
      "finn_vivado_stitch_proj.hw\t       make_project.tcl\r\n",
      "finn_vivado_stitch_proj.ip_user_files  vivado.jou\r\n",
      "finn_vivado_stitch_proj.srcs\t       vivado.log\r\n",
      "finn_vivado_stitch_proj.xpr\r\n"
     ]
    }
   ],
   "source": [
    "! ls {rtlsim_output_dir}/stitched_ip"
   ]
  },
  {
   "cell_type": "code",
   "execution_count": 17,
   "metadata": {},
   "outputs": [
    {
     "name": "stdout",
     "output_type": "stream",
     "text": [
      "estimate_layer_resources_hls.json  rtlsim_performance.json\r\n",
      "ooc_synth_and_timing.json\r\n"
     ]
    }
   ],
   "source": [
    "! ls {rtlsim_output_dir}/report"
   ]
  },
  {
   "cell_type": "code",
   "execution_count": 18,
   "metadata": {},
   "outputs": [
    {
     "name": "stdout",
     "output_type": "stream",
     "text": [
      "{\r\n",
      "  \"vivado_proj_folder\": \"/tmp/finn_dev_mtrahms/synth_out_of_context_to9kungs/results_finn_design_wrapper\",\r\n",
      "  \"LUT\": 4544.0,\r\n",
      "  \"FF\": 2816.0,\r\n",
      "  \"DSP\": 0.0,\r\n",
      "  \"BRAM\": 0.0,\r\n",
      "  \"WNS\": 190.033,\r\n",
      "  \"\": 0,\r\n",
      "  \"fmax_mhz\": 100.33109260559834,\r\n",
      "  \"estimated_throughput_fps\": 231177.63273179342\r\n",
      "}"
     ]
    }
   ],
   "source": [
    "! cat {rtlsim_output_dir}/report/ooc_synth_and_timing.json"
   ]
  },
  {
   "cell_type": "code",
   "execution_count": 19,
   "metadata": {},
   "outputs": [
    {
     "name": "stdout",
     "output_type": "stream",
     "text": [
      "{\r\n",
      "  \"cycles\": 3422,\r\n",
      "  \"runtime[ms]\": 0.6844,\r\n",
      "  \"throughput[images/s]\": 10227.936879018118,\r\n",
      "  \"DRAM_in_bandwidth[Mb/s]\": 0.10739333722969023,\r\n",
      "  \"DRAM_out_bandwidth[Mb/s]\": 0.007670952659263587,\r\n",
      "  \"fclk[mhz]\": 5.0,\r\n",
      "  \"N\": 7,\r\n",
      "  \"latency_cycles\": 782\r\n",
      "}"
     ]
    }
   ],
   "source": [
    "! cat {rtlsim_output_dir}/report/rtlsim_performance.json"
   ]
  },
  {
   "cell_type": "code",
   "execution_count": 20,
   "metadata": {},
   "outputs": [
    {
     "name": "stdout",
     "output_type": "stream",
     "text": [
      "{\r\n",
      "  \"Defaults\": {},\r\n",
      "  \"StreamingFIFO_0\": {\r\n",
      "    \"ram_style\": \"auto\",\r\n",
      "    \"depth\": 32,\r\n",
      "    \"impl_style\": \"rtl\"\r\n",
      "  },\r\n",
      "  \"StreamingFCLayer_Batch_0\": {\r\n",
      "    \"PE\": 1,\r\n",
      "    \"SIMD\": 1,\r\n",
      "    \"ram_style\": \"auto\",\r\n",
      "    \"resType\": \"lut\",\r\n",
      "    \"mem_mode\": \"decoupled\",\r\n",
      "    \"runtime_writeable_weights\": 0\r\n",
      "  },\r\n",
      "  \"StreamingFIFO_1\": {\r\n",
      "    \"ram_style\": \"auto\",\r\n",
      "    \"depth\": 32,\r\n",
      "    \"impl_style\": \"rtl\"\r\n",
      "  },\r\n",
      "  \"StreamingFCLayer_Batch_1\": {\r\n",
      "    \"PE\": 1,\r\n",
      "    \"SIMD\": 1,\r\n",
      "    \"ram_style\": \"auto\",\r\n",
      "    \"resType\": \"lut\",\r\n",
      "    \"mem_mode\": \"decoupled\",\r\n",
      "    \"runtime_writeable_weights\": 0\r\n",
      "  },\r\n",
      "  \"StreamingFCLayer_Batch_2\": {\r\n",
      "    \"PE\": 1,\r\n",
      "    \"SIMD\": 1,\r\n",
      "    \"ram_style\": \"auto\",\r\n",
      "    \"resType\": \"lut\",\r\n",
      "    \"mem_mode\": \"decoupled\",\r\n",
      "    \"runtime_writeable_weights\": 0\r\n",
      "  },\r\n",
      "  \"StreamingFCLayer_Batch_3\": {\r\n",
      "    \"PE\": 1,\r\n",
      "    \"SIMD\": 1,\r\n",
      "    \"ram_style\": \"auto\",\r\n",
      "    \"resType\": \"lut\",\r\n",
      "    \"mem_mode\": \"decoupled\",\r\n",
      "    \"runtime_writeable_weights\": 0\r\n",
      "  },\r\n",
      "  \"Thresholding_Batch_0\": {\r\n",
      "    \"PE\": 1,\r\n",
      "    \"ram_style\": \"distributed\",\r\n",
      "    \"mem_mode\": \"const\",\r\n",
      "    \"runtime_writeable_weights\": 0\r\n",
      "  }\r\n",
      "}"
     ]
    }
   ],
   "source": [
    "! cat {rtlsim_output_dir}/final_hw_config.json"
   ]
  },
  {
   "cell_type": "markdown",
   "metadata": {},
   "source": [
    "### Build PYNQ\n",
    "Build a bitfile for a pynq board"
   ]
  },
  {
   "cell_type": "code",
   "execution_count": 21,
   "metadata": {},
   "outputs": [
    {
     "name": "stdout",
     "output_type": "stream",
     "text": [
      "Building dataflow accelerator from quant_models/facileV3_4b_1_tidy.onnx\n",
      "Intermediate outputs will be generated in /tmp/finn_dev_mtrahms\n",
      "Final outputs will be generated in output_final\n",
      "Build log is at output_final/build_dataflow.log\n",
      "Running step: step_tidy_up [1/15]\n",
      "Running step: step_streamline [2/15]\n",
      "Running step: step_convert_to_hls [3/15]\n",
      "Running step: step_create_dataflow_partition [4/15]\n",
      "Running step: step_target_fps_parallelization [5/15]\n",
      "Running step: step_apply_folding_config [6/15]\n",
      "Running step: step_generate_estimate_reports [7/15]\n",
      "Running step: step_hls_ipgen [8/15]\n",
      "Running step: step_set_fifo_depths [9/15]\n",
      "Running step: step_create_stitched_ip [10/15]\n",
      "Running step: step_measure_rtlsim_performance [11/15]\n",
      "Running step: step_make_pynq_driver [12/15]\n",
      "Running step: step_out_of_context_synthesis [13/15]\n",
      "Running step: step_synthesize_bitfile [14/15]\n",
      "Running step: step_deployment_package [15/15]\n",
      "Completed successfully\n"
     ]
    },
    {
     "data": {
      "text/plain": [
       "0"
      ]
     },
     "execution_count": 21,
     "metadata": {},
     "output_type": "execute_result"
    }
   ],
   "source": [
    "import finn.builder.build_dataflow as build\n",
    "import finn.builder.build_dataflow_config as build_cfg\n",
    "\n",
    "final_output_dir = \"output_final\"\n",
    "\n",
    "cfg = build.DataflowBuildConfig(\n",
    "    output_dir          = final_output_dir,\n",
    "    target_fps          = target_fps,\n",
    "    synth_clk_period_ns = clk_per_ns,\n",
    "    board               = board,\n",
    "    shell_flow_type     = build_cfg.ShellFlowType.VIVADO_ZYNQ,\n",
    "    generate_outputs=[\n",
    "        build_cfg.DataflowOutputType.BITFILE,\n",
    "        build_cfg.DataflowOutputType.PYNQ_DRIVER,\n",
    "        build_cfg.DataflowOutputType.DEPLOYMENT_PACKAGE,\n",
    "    ]\n",
    ")\n",
    "\n",
    "build.build_dataflow_cfg(model_file, cfg)"
   ]
  },
  {
   "cell_type": "code",
   "execution_count": null,
   "metadata": {},
   "outputs": [],
   "source": []
  }
 ],
 "metadata": {
  "kernelspec": {
   "display_name": "Python 3",
   "language": "python",
   "name": "python3"
  },
  "language_info": {
   "codemirror_mode": {
    "name": "ipython",
    "version": 3
   },
   "file_extension": ".py",
   "mimetype": "text/x-python",
   "name": "python",
   "nbconvert_exporter": "python",
   "pygments_lexer": "ipython3",
   "version": "3.6.8"
  }
 },
 "nbformat": 4,
 "nbformat_minor": 4
}
